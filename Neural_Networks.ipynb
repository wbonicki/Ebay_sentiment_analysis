{
 "cells": [
  {
   "cell_type": "markdown",
   "metadata": {},
   "source": [
    "# Neural Networks for sentiment analysis\n",
    "\n",
    "This notebook is the fourth part of the project. The reviews analysis was carried out in the `data_analysis.ipynb` notebook. Here only neural networks were tested for determining the sentiment of a review. The models were build using three kinds of layers:\n",
    " - Embedding (using pretrained _Glove_ word embeddings)\n",
    " - Bidirectional LSTM layer\n",
    " - Dense layer\n",
    "\n",
    "__Reminder__ This classification problem is considered as imbalanced (almost 93% of the reviews are positive)\n",
    "\n",
    "On the whole four approaches were tested:\n",
    "\n",
    " __1. Binary classification__<br>\n",
    " Only positive and negative reviews were taken into account\n",
    " - 1.1. Fitting model without any operations with regard to imlabance\n",
    " - 1.2. Usage of sample weight parameters in model fitting\n",
    " \n",
    "__2. Multiclass classification__<br>\n",
    " All kinds of reviews were taken into account (positive, negative, neutral)\n",
    " - 2.1. Fitting model without any operations with regard to imlabance\n",
    " - 2.2. Usage of sample weight parameters in model fitting"
   ]
  },
  {
   "cell_type": "markdown",
   "metadata": {},
   "source": [
    "__Loading libraries__"
   ]
  },
  {
   "cell_type": "code",
   "execution_count": 40,
   "metadata": {},
   "outputs": [],
   "source": [
    "import pandas as pd\n",
    "import numpy as np\n",
    "from sklearn.base import BaseEstimator, TransformerMixin\n",
    "from sklearn.pipeline import Pipeline\n",
    "from sklearn.utils.class_weight import compute_class_weight\n",
    "from nltk.corpus import stopwords\n",
    "from sklearn.model_selection import train_test_split\n",
    "from sklearn.metrics import confusion_matrix, classification_report, plot_roc_curve, roc_curve, classification_report\n",
    "import os\n",
    "import matplotlib.pyplot as plt\n",
    "from datetime import date"
   ]
  },
  {
   "cell_type": "code",
   "execution_count": 41,
   "metadata": {},
   "outputs": [],
   "source": [
    "from keras.layers import Embedding, Flatten, Dense, Bidirectional, LSTM\n",
    "from keras import preprocessing\n",
    "from keras.models import Sequential\n",
    "from keras.utils import to_categorical\n",
    "from keras.callbacks import EarlyStopping\n",
    "from keras.preprocessing.text import Tokenizer\n",
    "from keras.models import load_model"
   ]
  },
  {
   "cell_type": "code",
   "execution_count": 42,
   "metadata": {},
   "outputs": [],
   "source": [
    "pd.set_option(\"max_colwidth\", 1000)"
   ]
  },
  {
   "cell_type": "markdown",
   "metadata": {},
   "source": [
    "__Loading the dataset__"
   ]
  },
  {
   "cell_type": "code",
   "execution_count": 43,
   "metadata": {},
   "outputs": [],
   "source": [
    "data = pd.read_csv('Data_NN.csv', index_col='Unnamed: 0')"
   ]
  },
  {
   "cell_type": "markdown",
   "metadata": {},
   "source": [
    "## Loading the pretrained word embeddings"
   ]
  },
  {
   "cell_type": "code",
   "execution_count": 44,
   "metadata": {},
   "outputs": [],
   "source": [
    "#available dimensions: 50, 100, 200, 300\n",
    "embedding_dim = 300\n",
    "#how many top words will be considered\n",
    "max_words=10000\n",
    "\n",
    "#loading pretrained word embeddings\n",
    "dir_ = 'glove'\n",
    "embeddings_index = {}\n",
    "f = open(os.path.join(dir_, f'glove.6B.{embedding_dim}d.txt'))\n",
    "for line in f:\n",
    "    values = line.split()\n",
    "    word = values[0]\n",
    "    coefs = np.asarray(values[1:], dtype='float32')\n",
    "    embeddings_index[word] = coefs\n",
    "f.close()"
   ]
  },
  {
   "cell_type": "markdown",
   "metadata": {},
   "source": [
    "## 1. Binary Case"
   ]
  },
  {
   "cell_type": "code",
   "execution_count": 45,
   "metadata": {},
   "outputs": [],
   "source": [
    "data_preprocessed_binary = data[data.rating != 3]"
   ]
  },
  {
   "cell_type": "code",
   "execution_count": 46,
   "metadata": {},
   "outputs": [],
   "source": [
    "#changing pandas reviews to list \n",
    "X = data_preprocessed_binary.review.values.tolist()\n",
    "y = data_preprocessed_binary.loc[:, 'rating'].astype('float32').values"
   ]
  },
  {
   "cell_type": "code",
   "execution_count": 47,
   "metadata": {},
   "outputs": [],
   "source": [
    "#splitting the dataset into test and train set\n",
    "y = to_categorical(y, num_classes=2)\n",
    "X_train, X_test, y_train, y_test = train_test_split(X, y, test_size=0.2, stratify=y, random_state=100)"
   ]
  },
  {
   "cell_type": "code",
   "execution_count": 48,
   "metadata": {},
   "outputs": [],
   "source": [
    "#top 10000 words are considered\n",
    "tokenizer = Tokenizer(num_words=max_words, lower=False, filters=\"\")\n",
    "tokenizer.fit_on_texts(X)\n",
    "\n",
    "#changes reviews to sequences of integers\n",
    "sequences_train = tokenizer.texts_to_sequences(X_train)\n",
    "sequences_test = tokenizer.texts_to_sequences(X_test)\n",
    "\n",
    "#max length of a review; max length of 20 was tested as well\n",
    "maxlen=200\n",
    "x_train = preprocessing.sequence.pad_sequences(sequences_train, maxlen=maxlen)\n",
    "x_test = preprocessing.sequence.pad_sequences(sequences_test, maxlen=maxlen)\n",
    "\n",
    "#what index has a given word\n",
    "word_index = tokenizer.word_index"
   ]
  },
  {
   "cell_type": "code",
   "execution_count": 49,
   "metadata": {},
   "outputs": [],
   "source": [
    "#building embedding matrix\n",
    "embedding_matrix = np.zeros((max_words, embedding_dim))\n",
    "for word, i in word_index.items():\n",
    "    if i < max_words:\n",
    "        embedding_vector = embeddings_index.get(word)\n",
    "        if embedding_vector is not None:\n",
    "            embedding_matrix[i] = embedding_vector"
   ]
  },
  {
   "cell_type": "code",
   "execution_count": 50,
   "metadata": {},
   "outputs": [],
   "source": [
    "def word_with_index(position):\n",
    "    \"\"\"\n",
    "    the function shows a word at a given position (number) in the tokenizer\n",
    "    \"\"\"\n",
    "    key_list = list(word_index.keys())\n",
    "    val_list = list(word_index.values())\n",
    "    position = val_list.index(position)\n",
    "    print(key_list[position])"
   ]
  },
  {
   "cell_type": "code",
   "execution_count": 51,
   "metadata": {},
   "outputs": [
    {
     "name": "stdout",
     "output_type": "stream",
     "text": [
      "word with index 1: the\n",
      "word with index 10: this\n",
      "word with index 50: new\n",
      "word with index 100: even\n",
      "word with index 1000: cutting\n",
      "word with index 1500: teeth\n",
      "word with index 4000: store,\n"
     ]
    }
   ],
   "source": [
    "for i in [1,10,50,100,1000,1500,4000]:\n",
    "    print(f'word with index {i}:', end=\" \")\n",
    "    word_with_index(i)"
   ]
  },
  {
   "cell_type": "code",
   "execution_count": 52,
   "metadata": {},
   "outputs": [],
   "source": [
    "#a variable for training/loading models, if it is True the pretrained models are loaded otherwise the models are loaded\n",
    "load = True"
   ]
  },
  {
   "cell_type": "code",
   "execution_count": 53,
   "metadata": {},
   "outputs": [],
   "source": [
    "#building neural networks\n",
    "if not load:\n",
    "    #model without sample weights\n",
    "    early_stopping = EarlyStopping(patience=4, monitor='val_loss', restore_best_weights=True)\n",
    "\n",
    "    model = Sequential()\n",
    "    model.add(Embedding(max_words, embedding_dim, input_length=maxlen))\n",
    "    model.add(Bidirectional(LSTM(64, return_sequences=False)))\n",
    "    model.add(Dense(64, 'tanh'))\n",
    "    model.add(Dense(32, 'tanh'))\n",
    "    model.add(Dense(2, 'softmax'))\n",
    "\n",
    "    #using the pretrained embeddings\n",
    "    model.layers[0].set_weights([embedding_matrix])\n",
    "    model.layers[0].trainable = False\n",
    "\n",
    "    model.compile(loss='binary_crossentropy', optimizer='adam', metrics=['binary_accuracy'])\n",
    "    model.summary()\n",
    "    model.fit(x_train, y_train, epochs=100, batch_size=32, \n",
    "              validation_split=0.2, \n",
    "              callbacks=[early_stopping])\n",
    "\n",
    "    model.save(f'B_64_300.h5')\n",
    "#-------------------------------------model with sample weights -----------------------------------------------------------\n",
    " \n",
    "    sample_weights = np.where(y_train[:,1] == 1., 1, 20) \n",
    "    modelSW = Sequential()\n",
    "    modelSW.add(Embedding(max_words, embedding_dim, input_length=maxlen))\n",
    "    modelSW.add(Bidirectional(LSTM(128, return_sequences=False)))\n",
    "    modelSW.add(Dense(128, 'tanh'))\n",
    "    modelSW.add(Dense(32, 'tanh'))\n",
    "    modelSW.add(Dense(2, 'softmax'))\n",
    "\n",
    "    #using the pretrained embeddings\n",
    "    modelSW.layers[0].set_weights([embedding_matrix])\n",
    "    modelSW.layers[0].trainable = False\n",
    "\n",
    "    modelSW.compile(loss='binary_crossentropy', optimizer='adam', metrics=['binary_accuracy'])\n",
    "    modelSW.summary()\n",
    "    modelSW.fit(x_train, y_train, epochs=100, batch_size=32, \n",
    "              validation_split=0.2, \n",
    "              callbacks=[early_stopping], sample_weight=sample_weights)\n",
    "    model.save(f'B_SW_128_300.h5') \n",
    "    \n",
    "    model.save(f'binary{str(date.today())}.h5')\n",
    "    modelSW.save(f'binarySW{str(date.today())}.h5')   \n",
    "    \n",
    "else:\n",
    "    #word embeddings dimension 300 with sample weights\n",
    "    binary_128_300 = load_model('models/B_128_300.h5')\n",
    "    \n",
    "    #word embeddings dimension 300 without sample weights    \n",
    "    binary_64_300 = load_model('models/B_64_300.h5')\n",
    "    \n",
    "    #word embeddings dimension 300 without sample weights with more neurons\n",
    "    binary_128_300SW = load_model('models/B_SW_128_300.h5')\n",
    "    \n",
    "    #word embeddings dimension 100 without sample weights    \n",
    "    binary_64_300SW = load_model('models/B_SW_64_300.h5')"
   ]
  },
  {
   "cell_type": "code",
   "execution_count": 54,
   "metadata": {},
   "outputs": [],
   "source": [
    "def ROC_NN(model, x_test, y_test):\n",
    "    \"\"\"\n",
    "    The function for calculating ROC parameters\n",
    "    \"\"\"\n",
    "    y_pred_proba = model.predict(x_test)\n",
    "    fpr, tpr, thresholds = roc_curve(y_test.argmax(1),y_pred_proba[:,1])\n",
    "    return fpr, tpr, thresholds"
   ]
  },
  {
   "cell_type": "markdown",
   "metadata": {},
   "source": [
    "__ROC for built models__"
   ]
  },
  {
   "cell_type": "code",
   "execution_count": 55,
   "metadata": {},
   "outputs": [
    {
     "data": {
      "text/plain": [
       "<matplotlib.legend.Legend at 0x7f4b8ae3d610>"
      ]
     },
     "execution_count": 55,
     "metadata": {},
     "output_type": "execute_result"
    },
    {
     "data": {
      "image/png": "[encoded data removed]",
      "text/plain": [
       "<Figure size 1440x720 with 1 Axes>"
      ]
     },
     "metadata": {
      "needs_background": "light"
     },
     "output_type": "display_data"
    }
   ],
   "source": [
    "models = [(binary_128_300,'B_128_300'), \n",
    "          (binary_64_300,'B_64_300'),\n",
    "          (binary_128_300SW,'B_SW_128_300'),\n",
    "          (binary_64_300SW,'B_SW_64_300')]\n",
    "\n",
    "fig, ax = plt.subplots(figsize=(20,10))\n",
    "leg = []\n",
    "for m in models:\n",
    "    fpr, tpr, _ = ROC_NN(m[0], x_test, y_test)\n",
    "    ax.plot(fpr, tpr)\n",
    "    leg.append(m[1])\n",
    "    \n",
    "ax.legend(leg)"
   ]
  },
  {
   "cell_type": "code",
   "execution_count": 56,
   "metadata": {},
   "outputs": [],
   "source": [
    "final_model_binary = binary_64_300SW"
   ]
  },
  {
   "cell_type": "markdown",
   "metadata": {},
   "source": [
    "__Adjusting probability threshold__"
   ]
  },
  {
   "cell_type": "code",
   "execution_count": 57,
   "metadata": {},
   "outputs": [],
   "source": [
    "fpr, tpr, thr = ROC_NN(final_model_binary, x_test, y_test)"
   ]
  },
  {
   "cell_type": "code",
   "execution_count": 58,
   "metadata": {},
   "outputs": [
    {
     "data": {
      "image/png": "[encoded data removed]",
      "text/plain": [
       "<Figure size 1440x720 with 1 Axes>"
      ]
     },
     "metadata": {
      "needs_background": "light"
     },
     "output_type": "display_data"
    }
   ],
   "source": [
    "s, e = 1660, 1900\n",
    "fig, ax = plt.subplots(figsize=(20,10))\n",
    "ax.plot(fpr, tpr, color='black', lw=3)\n",
    "ax.plot(fpr[s:e], tpr[s:e], color='red', lw=3)\n",
    "ax.grid(which='both')\n",
    "plt.yticks(ticks=np.arange(0,1.1,0.1), labels=[0,0.1,0.2,0.3,0.4,0.5,0.6,0.7,0.8,0.9,1])\n",
    "plt.xticks(ticks=np.arange(0,1.1,0.1), labels=[0,0.1,0.2,0.3,0.4,0.5,0.6,0.7,0.8,0.9,1])\n",
    "plt.show()"
   ]
  },
  {
   "cell_type": "code",
   "execution_count": 59,
   "metadata": {},
   "outputs": [
    {
     "data": {
      "text/plain": [
       "array([[0.84982415, 0.04679803, 0.99017835],\n",
       "       [0.99413834, 0.41133005, 0.64865863]])"
      ]
     },
     "execution_count": 59,
     "metadata": {},
     "output_type": "execute_result"
    }
   ],
   "source": [
    "#array for selecting optimal probability threshold - the first and the last value of the red line in the chart above\n",
    "np.hstack([tpr.reshape(-1, 1),fpr.reshape(-1, 1), thr.reshape(-1, 1)])[[s,e]]"
   ]
  },
  {
   "cell_type": "markdown",
   "metadata": {},
   "source": [
    "__The value of the threshold depends on the goal - whether precision or recall is more important, two thresholds were tested__"
   ]
  },
  {
   "cell_type": "code",
   "execution_count": 60,
   "metadata": {},
   "outputs": [
    {
     "name": "stdout",
     "output_type": "stream",
     "text": [
      "[[ 386   20]\n",
      " [1266 7264]]\n",
      "              precision    recall  f1-score   support\n",
      "\n",
      "           0       0.23      0.95      0.38       406\n",
      "           1       1.00      0.85      0.92      8530\n",
      "\n",
      "    accuracy                           0.86      8936\n",
      "   macro avg       0.62      0.90      0.65      8936\n",
      "weighted avg       0.96      0.86      0.89      8936\n",
      "\n",
      "number of reviews that are positive and are predicted as positive: 7264\n",
      "number of reviews that are negative and are predicted as negative: 386\n",
      "number of reviews that are negative and are predicted as positive: 20\n",
      "number of reviews that are positive and are predicted as negative: 1266\n"
     ]
    }
   ],
   "source": [
    "threshold = 0.99\n",
    "y_pred_proba_pos = final_model_binary.predict(x_test)[:,1]\n",
    "y_pred = np.where(y_pred_proba_pos > threshold, 1, 0)\n",
    "print(confusion_matrix(y_test.argmax(1), y_pred))\n",
    "print(classification_report(y_test.argmax(1), y_pred))\n",
    "cm = confusion_matrix(y_test.argmax(1), y_pred)\n",
    "\n",
    "print(f'number of reviews that are positive and are predicted as positive: {cm[1][1]}')\n",
    "print(f'number of reviews that are negative and are predicted as negative: {cm[0][0]}')\n",
    "print(f'number of reviews that are negative and are predicted as positive: {cm[0][1]}')\n",
    "print(f'number of reviews that are positive and are predicted as negative: {cm[1][0]}')"
   ]
  },
  {
   "cell_type": "code",
   "execution_count": 61,
   "metadata": {},
   "outputs": [
    {
     "name": "stdout",
     "output_type": "stream",
     "text": [
      "[[ 275  131]\n",
      " [  93 8437]]\n",
      "              precision    recall  f1-score   support\n",
      "\n",
      "           0       0.75      0.68      0.71       406\n",
      "           1       0.98      0.99      0.99      8530\n",
      "\n",
      "    accuracy                           0.97      8936\n",
      "   macro avg       0.87      0.83      0.85      8936\n",
      "weighted avg       0.97      0.97      0.97      8936\n",
      "\n",
      "number of reviews that are positive and are predicted as positive: 8437\n",
      "number of reviews that are negative and are predicted as negative: 275\n",
      "number of reviews that are negative and are predicted as positive: 131\n",
      "number of reviews that are positive and are predicted as negative: 93\n"
     ]
    }
   ],
   "source": [
    "threshold = 0.768\n",
    "y_pred_proba_pos = final_model_binary.predict(x_test)[:,1]\n",
    "y_pred = np.where(y_pred_proba_pos > threshold, 1, 0)\n",
    "cm = confusion_matrix(y_test.argmax(1), y_pred)\n",
    "print(cm)\n",
    "print(classification_report(y_test.argmax(1), y_pred))\n",
    "print(f'number of reviews that are positive and are predicted as positive: {cm[1][1]}')\n",
    "print(f'number of reviews that are negative and are predicted as negative: {cm[0][0]}')\n",
    "print(f'number of reviews that are negative and are predicted as positive: {cm[0][1]}')\n",
    "print(f'number of reviews that are positive and are predicted as negative: {cm[1][0]}')"
   ]
  },
  {
   "cell_type": "markdown",
   "metadata": {},
   "source": [
    "__Misclassified reviews__"
   ]
  },
  {
   "cell_type": "code",
   "execution_count": 62,
   "metadata": {},
   "outputs": [],
   "source": [
    "y_test.argmax(1)\n",
    "data_evaluation=pd.DataFrame(np.hstack([y_test.argmax(1).reshape(-1, 1),y_pred.reshape(-1,1)]), columns=['true','predicted'])\n",
    "idx = data_evaluation['true'] != data_evaluation['predicted']\n",
    "data_evaluation['review'] = X_test"
   ]
  },
  {
   "cell_type": "code",
   "execution_count": 63,
   "metadata": {},
   "outputs": [
    {
     "name": "stderr",
     "output_type": "stream",
     "text": [
      "<ipython-input-63-dae0dc0c1a20>:2: UserWarning: Boolean Series key will be reindexed to match DataFrame index.\n",
      "  data_evaluation[idx][data_evaluation.true == False].head(5)\n"
     ]
    },
    {
     "data": {
      "text/html": [
       "<div>\n",
       "<style scoped>\n",
       "    .dataframe tbody tr th:only-of-type {\n",
       "        vertical-align: middle;\n",
       "    }\n",
       "\n",
       "    .dataframe tbody tr th {\n",
       "        vertical-align: top;\n",
       "    }\n",
       "\n",
       "    .dataframe thead th {\n",
       "        text-align: right;\n",
       "    }\n",
       "</style>\n",
       "<table border=\"1\" class=\"dataframe\">\n",
       "  <thead>\n",
       "    <tr style=\"text-align: right;\">\n",
       "      <th></th>\n",
       "      <th>true</th>\n",
       "      <th>predicted</th>\n",
       "      <th>review</th>\n",
       "    </tr>\n",
       "  </thead>\n",
       "  <tbody>\n",
       "    <tr>\n",
       "      <th>50</th>\n",
       "      <td>0</td>\n",
       "      <td>1</td>\n",
       "      <td>is this what sonic has come to?! sega was proud to announce this new sonic game because it would redifine the sonic series. well...this game was a huge dissapointment to critics and fans alike.gameplay: at the most i would say its maybe a little below decent. sure, the speed makes it fun, but when you run into enemies and everything else, you have to slow down to go onto the next level.graphics: pretty good. not too next-generation, but there are lots of improvements from previous sonic games.story: i actually enjoyed part of silver's and sonic's story. the cutscenes were nicely made; perhaps the best part of the game.replay value: no replay value whatsoever, unless you want to unlock achivements for the xbox 360 version. otherwise you can beat the levels as fast as you like for absolutely no reward at all.overall: the game is a rent, not a buy. i'm a big sonic fan and only children who liked shadow the hedgehog would probably like this game to the fullest.read full review...</td>\n",
       "    </tr>\n",
       "    <tr>\n",
       "      <th>90</th>\n",
       "      <td>0</td>\n",
       "      <td>1</td>\n",
       "      <td>no cables didnt get power cable</td>\n",
       "    </tr>\n",
       "    <tr>\n",
       "      <th>111</th>\n",
       "      <td>0</td>\n",
       "      <td>1</td>\n",
       "      <td>so far, so good none</td>\n",
       "    </tr>\n",
       "    <tr>\n",
       "      <th>118</th>\n",
       "      <td>0</td>\n",
       "      <td>1</td>\n",
       "      <td>great specs - sketchy touchscreen defective screens - the screens on this model are a bit of a hit and miss. certain areas of the screen do not register touch well and sliding does not always pick up properly. it is very frustrating playing some games or using applications with those sections of the screen.read full review...</td>\n",
       "    </tr>\n",
       "    <tr>\n",
       "      <th>162</th>\n",
       "      <td>0</td>\n",
       "      <td>1</td>\n",
       "      <td>this is not an ultra wide monitor it’s just a really nice standard monitor.  it’s big.  and it’s attractive. but it’s not an ultra wide as advertised.  so disappointed.</td>\n",
       "    </tr>\n",
       "  </tbody>\n",
       "</table>\n",
       "</div>"
      ],
      "text/plain": [
       "     true  predicted  \\\n",
       "50      0          1   \n",
       "90      0          1   \n",
       "111     0          1   \n",
       "118     0          1   \n",
       "162     0          1   \n",
       "\n",
       "                                                                                                                                                                                                                                                                                                                                                                                                                                                                                                                                                                                                                                                                                                                                                                                                                                                                                                                                                                                                                             review  \n",
       "50   is this what sonic has come to?! sega was proud to announce this new sonic game because it would redifine the sonic series. well...this game was a huge dissapointment to critics and fans alike.gameplay: at the most i would say its maybe a little below decent. sure, the speed makes it fun, but when you run into enemies and everything else, you have to slow down to go onto the next level.graphics: pretty good. not too next-generation, but there are lots of improvements from previous sonic games.story: i actually enjoyed part of silver's and sonic's story. the cutscenes were nicely made; perhaps the best part of the game.replay value: no replay value whatsoever, unless you want to unlock achivements for the xbox 360 version. otherwise you can beat the levels as fast as you like for absolutely no reward at all.overall: the game is a rent, not a buy. i'm a big sonic fan and only children who liked shadow the hedgehog would probably like this game to the fullest.read full review...  \n",
       "90                                                                                                                                                                                                                                                                                                                                                                                                                                                                                                                                                                                                                                                                                                                                                                                                                                                                                                                                                                                                  no cables didnt get power cable  \n",
       "111                                                                                                                                                                                                                                                                                                                                                                                                                                                                                                                                                                                                                                                                                                                                                                                                                                                                                                                                                                                                            so far, so good none  \n",
       "118                                                                                                                                                                                                                                                                                                                                                                                                                                                                                                                                                                                                                                                                                         great specs - sketchy touchscreen defective screens - the screens on this model are a bit of a hit and miss. certain areas of the screen do not register touch well and sliding does not always pick up properly. it is very frustrating playing some games or using applications with those sections of the screen.read full review...  \n",
       "162                                                                                                                                                                                                                                                                                                                                                                                                                                                                                                                                                                                                                                                                                                                                                                                                                                                        this is not an ultra wide monitor it’s just a really nice standard monitor.  it’s big.  and it’s attractive. but it’s not an ultra wide as advertised.  so disappointed.  "
      ]
     },
     "execution_count": 63,
     "metadata": {},
     "output_type": "execute_result"
    }
   ],
   "source": [
    "#false positive\n",
    "data_evaluation[idx][data_evaluation.true == False].head(5)"
   ]
  },
  {
   "cell_type": "code",
   "execution_count": 64,
   "metadata": {},
   "outputs": [
    {
     "name": "stderr",
     "output_type": "stream",
     "text": [
      "<ipython-input-64-9c1fc904ccb6>:2: UserWarning: Boolean Series key will be reindexed to match DataFrame index.\n",
      "  data_evaluation[idx][data_evaluation.true == True].head(5)\n"
     ]
    },
    {
     "data": {
      "text/html": [
       "<div>\n",
       "<style scoped>\n",
       "    .dataframe tbody tr th:only-of-type {\n",
       "        vertical-align: middle;\n",
       "    }\n",
       "\n",
       "    .dataframe tbody tr th {\n",
       "        vertical-align: top;\n",
       "    }\n",
       "\n",
       "    .dataframe thead th {\n",
       "        text-align: right;\n",
       "    }\n",
       "</style>\n",
       "<table border=\"1\" class=\"dataframe\">\n",
       "  <thead>\n",
       "    <tr style=\"text-align: right;\">\n",
       "      <th></th>\n",
       "      <th>true</th>\n",
       "      <th>predicted</th>\n",
       "      <th>review</th>\n",
       "    </tr>\n",
       "  </thead>\n",
       "  <tbody>\n",
       "    <tr>\n",
       "      <th>71</th>\n",
       "      <td>1</td>\n",
       "      <td>0</td>\n",
       "      <td>bad onoff design the onoff switch is on the bottom of the screen frame. it is the light. there are other switches under the frame. no information was provided to explain their use.</td>\n",
       "    </tr>\n",
       "    <tr>\n",
       "      <th>97</th>\n",
       "      <td>1</td>\n",
       "      <td>0</td>\n",
       "      <td>iphone xs how long do you have to use?what percentage of battery life?</td>\n",
       "    </tr>\n",
       "    <tr>\n",
       "      <th>258</th>\n",
       "      <td>1</td>\n",
       "      <td>0</td>\n",
       "      <td>wifi wifi feature will not transfer pics to my macbook  i called cannon and they have no answers how to fix the problem.</td>\n",
       "    </tr>\n",
       "    <tr>\n",
       "      <th>389</th>\n",
       "      <td>1</td>\n",
       "      <td>0</td>\n",
       "      <td>read the fine print i received my headphones in a plain brown box even though they show a new boxed set that was supposedly just opened. i did not receive the cord to listen from my phone without bluetooth. not one page of instructions on how to use. thankfully my grandson had a pair and showed me how to very basically use. there is so much more to know than very basic. i ended up printing instructions online the actual directions for its use. it does tell you there are 180 pages of directions. i picked and chose what to print and still had to put paper in my printer 3 times to complete just what i felt like was absolutely needed for ultimate use. i would now purchase from someone that was selling everything i needed to use and operate. they do work as supposed to and love the item. just not happy it was not complete. it was represented as new, box opened.read full review...</td>\n",
       "    </tr>\n",
       "    <tr>\n",
       "      <th>417</th>\n",
       "      <td>1</td>\n",
       "      <td>0</td>\n",
       "      <td>screen scratches verified purchase:  yes  condition: pre-owned  sold by: breedproducts</td>\n",
       "    </tr>\n",
       "  </tbody>\n",
       "</table>\n",
       "</div>"
      ],
      "text/plain": [
       "     true  predicted  \\\n",
       "71      1          0   \n",
       "97      1          0   \n",
       "258     1          0   \n",
       "389     1          0   \n",
       "417     1          0   \n",
       "\n",
       "                                                                                                                                                                                                                                                                                                                                                                                                                                                                                                                                                                                                                                                                                                                                                                                                                                                                                                                      review  \n",
       "71                                                                                                                                                                                                                                                                                                                                                                                                                                                                                                                                                                                                                                                                                                                                      bad onoff design the onoff switch is on the bottom of the screen frame. it is the light. there are other switches under the frame. no information was provided to explain their use.  \n",
       "97                                                                                                                                                                                                                                                                                                                                                                                                                                                                                                                                                                                                                                                                                                                                                                                                                                                    iphone xs how long do you have to use?what percentage of battery life?  \n",
       "258                                                                                                                                                                                                                                                                                                                                                                                                                                                                                                                                                                                                                                                                                                                                                                                                 wifi wifi feature will not transfer pics to my macbook  i called cannon and they have no answers how to fix the problem.  \n",
       "389  read the fine print i received my headphones in a plain brown box even though they show a new boxed set that was supposedly just opened. i did not receive the cord to listen from my phone without bluetooth. not one page of instructions on how to use. thankfully my grandson had a pair and showed me how to very basically use. there is so much more to know than very basic. i ended up printing instructions online the actual directions for its use. it does tell you there are 180 pages of directions. i picked and chose what to print and still had to put paper in my printer 3 times to complete just what i felt like was absolutely needed for ultimate use. i would now purchase from someone that was selling everything i needed to use and operate. they do work as supposed to and love the item. just not happy it was not complete. it was represented as new, box opened.read full review...  \n",
       "417                                                                                                                                                                                                                                                                                                                                                                                                                                                                                                                                                                                                                                                                                                                                                                                                                                   screen scratches verified purchase:  yes  condition: pre-owned  sold by: breedproducts  "
      ]
     },
     "execution_count": 64,
     "metadata": {},
     "output_type": "execute_result"
    }
   ],
   "source": [
    "#false negative\n",
    "data_evaluation[idx][data_evaluation.true == True].head(5)"
   ]
  },
  {
   "cell_type": "markdown",
   "metadata": {},
   "source": [
    "__How does the model predict a sentiment of a neutral review__"
   ]
  },
  {
   "cell_type": "code",
   "execution_count": 65,
   "metadata": {},
   "outputs": [
    {
     "data": {
      "text/html": [
       "<div>\n",
       "<style scoped>\n",
       "    .dataframe tbody tr th:only-of-type {\n",
       "        vertical-align: middle;\n",
       "    }\n",
       "\n",
       "    .dataframe tbody tr th {\n",
       "        vertical-align: top;\n",
       "    }\n",
       "\n",
       "    .dataframe thead th {\n",
       "        text-align: right;\n",
       "    }\n",
       "</style>\n",
       "<table border=\"1\" class=\"dataframe\">\n",
       "  <thead>\n",
       "    <tr style=\"text-align: right;\">\n",
       "      <th></th>\n",
       "      <th>review</th>\n",
       "      <th>predicted</th>\n",
       "    </tr>\n",
       "  </thead>\n",
       "  <tbody>\n",
       "    <tr>\n",
       "      <th>0</th>\n",
       "      <td>it’s a great game!!! verified purchase:  yes  condition: new  sold by: nerdynero</td>\n",
       "      <td>1</td>\n",
       "    </tr>\n",
       "    <tr>\n",
       "      <th>1</th>\n",
       "      <td>great game my son loves this game fast shipping a</td>\n",
       "      <td>1</td>\n",
       "    </tr>\n",
       "    <tr>\n",
       "      <th>2</th>\n",
       "      <td>super smash bros. good game.</td>\n",
       "      <td>1</td>\n",
       "    </tr>\n",
       "    <tr>\n",
       "      <th>3</th>\n",
       "      <td>love it i loved playing this game on the gamecube and so it makes me happy playing it.</td>\n",
       "      <td>1</td>\n",
       "    </tr>\n",
       "    <tr>\n",
       "      <th>4</th>\n",
       "      <td>happy the game works great!</td>\n",
       "      <td>1</td>\n",
       "    </tr>\n",
       "    <tr>\n",
       "      <th>5</th>\n",
       "      <td>super smash bros ultimate it is fun but is very hard to get the characters so maybe next time they can tell us how to get characters</td>\n",
       "      <td>1</td>\n",
       "    </tr>\n",
       "    <tr>\n",
       "      <th>6</th>\n",
       "      <td>video game great game</td>\n",
       "      <td>1</td>\n",
       "    </tr>\n",
       "    <tr>\n",
       "      <th>7</th>\n",
       "      <td>game is in working condition woks great!</td>\n",
       "      <td>1</td>\n",
       "    </tr>\n",
       "    <tr>\n",
       "      <th>8</th>\n",
       "      <td>good game my son loves this game. he's plays every chance he gets.</td>\n",
       "      <td>1</td>\n",
       "    </tr>\n",
       "    <tr>\n",
       "      <th>9</th>\n",
       "      <td>best game good game</td>\n",
       "      <td>1</td>\n",
       "    </tr>\n",
       "  </tbody>\n",
       "</table>\n",
       "</div>"
      ],
      "text/plain": [
       "                                                                                                                                 review  \\\n",
       "0                                                      it’s a great game!!! verified purchase:  yes  condition: new  sold by: nerdynero   \n",
       "1                                                                                     great game my son loves this game fast shipping a   \n",
       "2                                                                                                          super smash bros. good game.   \n",
       "3                                                love it i loved playing this game on the gamecube and so it makes me happy playing it.   \n",
       "4                                                                                                           happy the game works great!   \n",
       "5  super smash bros ultimate it is fun but is very hard to get the characters so maybe next time they can tell us how to get characters   \n",
       "6                                                                                                                 video game great game   \n",
       "7                                                                                              game is in working condition woks great!   \n",
       "8                                                                    good game my son loves this game. he's plays every chance he gets.   \n",
       "9                                                                                                                   best game good game   \n",
       "\n",
       "   predicted  \n",
       "0          1  \n",
       "1          1  \n",
       "2          1  \n",
       "3          1  \n",
       "4          1  \n",
       "5          1  \n",
       "6          1  \n",
       "7          1  \n",
       "8          1  \n",
       "9          1  "
      ]
     },
     "execution_count": 65,
     "metadata": {},
     "output_type": "execute_result"
    }
   ],
   "source": [
    "reviews_neutral = data_preprocessed[data_preprocessed.rating == 1].review.values.tolist()\n",
    "neutral_to_predict = reviews_neutral[100:110]\n",
    "\n",
    "neutral_to_predict_tokenized = preprocessing.sequence.pad_sequences(tokenizer.texts_to_sequences(neutral_to_predict), maxlen=maxlen)\n",
    "y_pred_neutral = final_model_binary.predict(neutral_to_predict_tokenized)\n",
    "\n",
    "df = pd.DataFrame(data=reviews_neutral[100:110], columns=['review'])\n",
    "df['predicted'] = y_pred_neutral.argmax(1)\n",
    "df"
   ]
  },
  {
   "cell_type": "markdown",
   "metadata": {},
   "source": [
    "## 2. Multiclass classification"
   ]
  },
  {
   "cell_type": "code",
   "execution_count": 66,
   "metadata": {},
   "outputs": [],
   "source": [
    "def model_summary(model, X_test, y_test):\n",
    "    \"\"\"\n",
    "    Function that prints classification report and confusion matrix for a given model\n",
    "    \"\"\"\n",
    "    \n",
    "    y_pred = model.predict(X_test).argmax(1)\n",
    "    print('\\nconfusion matrix\\n', confusion_matrix(y_test.argmax(1), y_pred))\n",
    "\n",
    "    print('\\nclassification report\\n',classification_report(y_test.argmax(1), y_pred))"
   ]
  },
  {
   "cell_type": "code",
   "execution_count": 70,
   "metadata": {},
   "outputs": [],
   "source": [
    "data.rating.replace({3:1, 1:2, 0:0}, inplace=True)"
   ]
  },
  {
   "cell_type": "code",
   "execution_count": 72,
   "metadata": {},
   "outputs": [],
   "source": [
    "X = data.review.values.tolist()\n",
    "y = data.loc[:, 'rating'].astype('float')\n",
    "y = to_categorical(y, num_classes=3)\n",
    "X_train_MC, X_test_MC, y_train_MC, y_test_MC = train_test_split(X, y, test_size=0.2, stratify=y, random_state=100)"
   ]
  },
  {
   "cell_type": "code",
   "execution_count": 73,
   "metadata": {},
   "outputs": [],
   "source": [
    "#top 10000 words are considered\n",
    "tokenizer_MC = Tokenizer(num_words=10000)\n",
    "tokenizer_MC.fit_on_texts(X_train_MC)\n",
    "sequences_train_MC = tokenizer_MC.texts_to_sequences(X_train_MC)\n",
    "sequences_test_MC = tokenizer_MC.texts_to_sequences(X_test_MC)\n",
    "\n",
    "maxlen=200\n",
    "x_train_MC = preprocessing.sequence.pad_sequences(sequences_train_MC, maxlen=maxlen)\n",
    "x_test_MC = preprocessing.sequence.pad_sequences(sequences_test_MC, maxlen=maxlen)\n",
    "\n",
    "word_index_MC = tokenizer_MC.word_index"
   ]
  },
  {
   "cell_type": "code",
   "execution_count": 74,
   "metadata": {},
   "outputs": [],
   "source": [
    "embedding_dim = 300\n",
    "max_words=10000\n",
    "\n",
    "embedding_matrix = np.zeros((max_words, embedding_dim))\n",
    "for word, i in word_index_MC.items():\n",
    "    if i < max_words:\n",
    "        embedding_vector = embeddings_index.get(word)\n",
    "        if embedding_vector is not None:\n",
    "            embedding_matrix[i] = embedding_vector"
   ]
  },
  {
   "cell_type": "code",
   "execution_count": 75,
   "metadata": {},
   "outputs": [],
   "source": [
    "load = True"
   ]
  },
  {
   "cell_type": "code",
   "execution_count": 77,
   "metadata": {},
   "outputs": [],
   "source": [
    "if not load:\n",
    "    early_stopping = EarlyStopping(patience=4, monitor='val_loss', restore_best_weights=True)\n",
    "    \n",
    "    #model without sample weights\n",
    "    model = Sequential()\n",
    "    model.add(Embedding(max_words, embedding_dim, input_length=maxlen))\n",
    "    model.add(Bidirectional(LSTM(256, return_sequences=False)))\n",
    "    model.add(Dense(256, 'tanh'))\n",
    "    model.add(Dense(64, 'tanh'))\n",
    "    model.add(Dense(3, 'softmax'))\n",
    "\n",
    "    #using the pretrained embeddings\n",
    "    model.layers[0].set_weights([embedding_matrix])\n",
    "    model.layers[0].trainable = False\n",
    "\n",
    "    model.compile(loss='categorical_crossentropy', optimizer='adam', metrics=['categorical_accuracy'])\n",
    "    model.summary()\n",
    "    model.fit(x_train_MC, y_train_MC, epochs=100, batch_size=32, validation_split=0.2, callbacks=[early_stopping])\n",
    "    \n",
    "    \n",
    "    model.save(f'multiclass{str(date.today())}.h5')\n",
    "\n",
    "#-------------------------------------------model with sample weights------------------------------------------------------  \n",
    "    sample_weights = np.where(y_train_MC[:,2] == 1., 1, 20) \n",
    "\n",
    "    modelSW = Sequential()\n",
    "    modelSW.add(Embedding(max_words, embedding_dim, input_length=maxlen))\n",
    "    modelSW.add(Bidirectional(LSTM(256, return_sequences=False)))\n",
    "    modelSW.add(Dense(256, 'tanh'))\n",
    "    modelSW.add(Dense(64, 'tanh'))\n",
    "    modelSW.add(Dense(3, 'softmax'))\n",
    "\n",
    "    #using the pretrained embeddings\n",
    "    modelSW.layers[0].set_weights([embedding_matrix])\n",
    "    modelSW.layers[0].trainable = False\n",
    "\n",
    "    modelSW.compile(loss='categorical_crossentropy', optimizer='adam', metrics=['categorical_accuracy'])\n",
    "    modelSW.summary()\n",
    "    modelSW.fit(x_train_MC, y_train_MC, epochs=100, batch_size=32, \n",
    "              validation_split=0.2, \n",
    "              callbacks=[early_stopping], sample_weight=sample_weights)\n",
    "\n",
    "    modelSW.save(f'multiclassSW{str(date.today())}.h5')\n",
    "\n",
    "\n",
    "else:\n",
    "    #word embeddings dimension 300 with sample weights\n",
    "    MC_300SW = load_model('models/NN_MC_300SW.h5')\n",
    "\n",
    "    #word embeddings dimension 300 without sample weights    \n",
    "    MC_300_2 = load_model('models/NN_MC_300_2.h5')\n",
    "\n",
    "    #word embeddings dimension 300 without sample weights with more neurons\n",
    "    MC_300SW_2 = load_model('models/NN_MC_300SW_2.h5')\n",
    "\n",
    "    #word embeddings dimension 100 without sample weights    \n",
    "    MC_300 = load_model('models/NN_MC_300.h5')"
   ]
  },
  {
   "cell_type": "code",
   "execution_count": 78,
   "metadata": {},
   "outputs": [
    {
     "name": "stdout",
     "output_type": "stream",
     "text": [
      "model models/MC_300\n",
      "\n",
      "confusion matrix\n",
      " [[  55   13  338]\n",
      " [  14   12  262]\n",
      " [ 111   44 8375]]\n",
      "\n",
      "classification report\n",
      "               precision    recall  f1-score   support\n",
      "\n",
      "           0       0.31      0.14      0.19       406\n",
      "           1       0.17      0.04      0.07       288\n",
      "           2       0.93      0.98      0.96      8530\n",
      "\n",
      "    accuracy                           0.92      9224\n",
      "   macro avg       0.47      0.39      0.40      9224\n",
      "weighted avg       0.88      0.92      0.90      9224\n",
      "\n",
      "\n",
      "model models/MC_300_2\n",
      "\n",
      "confusion matrix\n",
      " [[  84    1  321]\n",
      " [  35    1  252]\n",
      " [ 234    7 8289]]\n",
      "\n",
      "classification report\n",
      "               precision    recall  f1-score   support\n",
      "\n",
      "           0       0.24      0.21      0.22       406\n",
      "           1       0.11      0.00      0.01       288\n",
      "           2       0.94      0.97      0.95      8530\n",
      "\n",
      "    accuracy                           0.91      9224\n",
      "   macro avg       0.43      0.39      0.39      9224\n",
      "weighted avg       0.88      0.91      0.89      9224\n",
      "\n",
      "\n",
      "model models/MC_300SW\n",
      "\n",
      "confusion matrix\n",
      " [[ 136   64  206]\n",
      " [  63   49  176]\n",
      " [ 913  496 7121]]\n",
      "\n",
      "classification report\n",
      "               precision    recall  f1-score   support\n",
      "\n",
      "           0       0.12      0.33      0.18       406\n",
      "           1       0.08      0.17      0.11       288\n",
      "           2       0.95      0.83      0.89      8530\n",
      "\n",
      "    accuracy                           0.79      9224\n",
      "   macro avg       0.38      0.45      0.39      9224\n",
      "weighted avg       0.89      0.79      0.83      9224\n",
      "\n",
      "\n",
      "model models/MC_300SW_2\n",
      "\n",
      "confusion matrix\n",
      " [[  58  208  140]\n",
      " [  17  141  130]\n",
      " [ 174 1771 6585]]\n",
      "\n",
      "classification report\n",
      "               precision    recall  f1-score   support\n",
      "\n",
      "           0       0.23      0.14      0.18       406\n",
      "           1       0.07      0.49      0.12       288\n",
      "           2       0.96      0.77      0.86      8530\n",
      "\n",
      "    accuracy                           0.74      9224\n",
      "   macro avg       0.42      0.47      0.38      9224\n",
      "weighted avg       0.90      0.74      0.80      9224\n",
      "\n",
      "\n"
     ]
    }
   ],
   "source": [
    "modelsMC = [(MC_300,'MC_300'), \n",
    "            (MC_300_2,'MC_300_2'),\n",
    "            (MC_300SW,'MC_300SW'),\n",
    "            (MC_300SW_2,'MC_300SW_2')]\n",
    "\n",
    "for m in modelsMC:\n",
    "    print(f'model {m[1]}')\n",
    "    model_summary(m[0], x_test_MC, y_test_MC)\n",
    "    print()"
   ]
  },
  {
   "cell_type": "markdown",
   "metadata": {},
   "source": [
    "# Summary\n",
    "\n",
    "The neutral network models performs worser than the SVC model."
   ]
  }
 ],
 "metadata": {
  "kernelspec": {
   "display_name": "Python 3",
   "language": "python",
   "name": "python3"
  },
  "language_info": {
   "codemirror_mode": {
    "name": "ipython",
    "version": 3
   },
   "file_extension": ".py",
   "mimetype": "text/x-python",
   "name": "python",
   "nbconvert_exporter": "python",
   "pygments_lexer": "ipython3",
   "version": "3.8.2"
  }
 },
 "nbformat": 4,
 "nbformat_minor": 4
}
