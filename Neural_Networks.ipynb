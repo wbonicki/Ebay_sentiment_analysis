{
 "cells": [
  {
   "cell_type": "markdown",
   "metadata": {},
   "source": [
    "# Neural networks approach for sentiment analysis\n",
    "\n",
    "This notebook presents neural networks approach for predicting reviews sentiment. The data was analized and prepared for modelling in `Data_analysis.ipynb` notebook. Three kinds of layers were used:\n",
    " - Embedding (using pretrained _Glove_ word embeddings)\n",
    " - Bidirectional LSTM layer\n",
    " - Dense layer\n",
    "\n",
    "__Note:__ Because almost 93% of the reviews are positive some imbalanced classification problem steps were undertaken.\n",
    "\n",
    "Two cases were considered:\n",
    " 1. Binary classification - only positive and negative reviews were taken into account. Networks were built using two approaches\n",
    " - 1.1. Fitting model without any operations with regard to imlabance\n",
    " - 1.2. Usage of sample weight parameters in model fitting\n",
    " \n",
    " 2. Multiclass classification - all kinds of reviews were taken into account (positive, negative, neutral).  Networks were built using two approaches\n",
    " - 2.1. Fitting model without any operations with regard to imlabance\n",
    " - 2.2. Usage of sample weight parameters in model fitting\n",
    " \n",
    "__Note:__ Many different layer settings were tried out and only small part of these models is shown in this notebook"
   ]
  },
  {
   "cell_type": "markdown",
   "metadata": {},
   "source": [
    "__Loading libraries__"
   ]
  },
  {
   "cell_type": "code",
   "execution_count": 2,
   "metadata": {},
   "outputs": [],
   "source": [
    "import pandas as pd\n",
    "import numpy as np\n",
    "from sklearn.base import BaseEstimator, TransformerMixin\n",
    "from sklearn.pipeline import Pipeline\n",
    "from sklearn.utils.class_weight import compute_class_weight\n",
    "from nltk.corpus import stopwords\n",
    "from sklearn.model_selection import train_test_split\n",
    "from sklearn.metrics import confusion_matrix, classification_report, plot_roc_curve, roc_curve, classification_report\n",
    "import os\n",
    "import matplotlib.pyplot as plt\n",
    "from datetime import date"
   ]
  },
  {
   "cell_type": "code",
   "execution_count": 3,
   "metadata": {},
   "outputs": [],
   "source": [
    "from keras.layers import Embedding, Flatten, Dense, Bidirectional, LSTM\n",
    "from keras import preprocessing\n",
    "from keras.models import Sequential\n",
    "from keras.utils import to_categorical\n",
    "from keras.callbacks import EarlyStopping\n",
    "from keras.preprocessing.text import Tokenizer\n",
    "from keras.models import load_model"
   ]
  },
  {
   "cell_type": "code",
   "execution_count": 4,
   "metadata": {},
   "outputs": [],
   "source": [
    "pd.set_option(\"max_colwidth\", 1000)"
   ]
  },
  {
   "cell_type": "markdown",
   "metadata": {},
   "source": [
    "__Loading the dataset__"
   ]
  },
  {
   "cell_type": "code",
   "execution_count": 5,
   "metadata": {},
   "outputs": [],
   "source": [
    "data = pd.read_csv('Data_NN.csv', index_col='Unnamed: 0')"
   ]
  },
  {
   "cell_type": "markdown",
   "metadata": {},
   "source": [
    "__Loading the pretrained word embeddings (_glove_ embedding)__"
   ]
  },
  {
   "cell_type": "code",
   "execution_count": 6,
   "metadata": {},
   "outputs": [],
   "source": [
    "#available dimensions: 50, 100, 200, 300\n",
    "embedding_dim = 300\n",
    "#how many top words will be considered\n",
    "max_words=10000\n",
    "\n",
    "#loading pretrained word embeddings\n",
    "dir_ = 'glove'\n",
    "embeddings_index = {}\n",
    "f = open(os.path.join(dir_, f'glove.6B.{embedding_dim}d.txt'))\n",
    "for line in f:\n",
    "    values = line.split()\n",
    "    word = values[0]\n",
    "    coefs = np.asarray(values[1:], dtype='float32')\n",
    "    embeddings_index[word] = coefs\n",
    "f.close()"
   ]
  },
  {
   "cell_type": "markdown",
   "metadata": {},
   "source": [
    "# 1. Binary classification\n",
    "\n",
    "__Preparing data for keras__"
   ]
  },
  {
   "cell_type": "code",
   "execution_count": 7,
   "metadata": {},
   "outputs": [],
   "source": [
    "data_preprocessed_binary = data[data.rating != 3]"
   ]
  },
  {
   "cell_type": "code",
   "execution_count": 8,
   "metadata": {},
   "outputs": [],
   "source": [
    "#changing pandas reviews to list \n",
    "X = data_preprocessed_binary.review.values.tolist()\n",
    "y = data_preprocessed_binary.loc[:, 'rating'].astype('float32').values"
   ]
  },
  {
   "cell_type": "code",
   "execution_count": 9,
   "metadata": {},
   "outputs": [],
   "source": [
    "#splitting the dataset into test and train set\n",
    "y = to_categorical(y, num_classes=2)\n",
    "X_train, X_test, y_train, y_test = train_test_split(X, y, test_size=0.2, stratify=y, random_state=100)"
   ]
  },
  {
   "cell_type": "code",
   "execution_count": 10,
   "metadata": {},
   "outputs": [],
   "source": [
    "#top 10000 words are considered\n",
    "tokenizer = Tokenizer(num_words=max_words, lower=False, filters=\"\")\n",
    "tokenizer.fit_on_texts(X)\n",
    "\n",
    "#changes reviews to sequences of integers\n",
    "sequences_train = tokenizer.texts_to_sequences(X_train)\n",
    "sequences_test = tokenizer.texts_to_sequences(X_test)\n",
    "\n",
    "#max length of a review; max length of 20 was tested as well\n",
    "maxlen=200\n",
    "x_train = preprocessing.sequence.pad_sequences(sequences_train, maxlen=maxlen)\n",
    "x_test = preprocessing.sequence.pad_sequences(sequences_test, maxlen=maxlen)\n",
    "\n",
    "#what index has a given word\n",
    "word_index = tokenizer.word_index"
   ]
  },
  {
   "cell_type": "code",
   "execution_count": 11,
   "metadata": {},
   "outputs": [],
   "source": [
    "#building embedding matrix\n",
    "embedding_matrix = np.zeros((max_words, embedding_dim))\n",
    "for word, i in word_index.items():\n",
    "    if i < max_words:\n",
    "        embedding_vector = embeddings_index.get(word)\n",
    "        if embedding_vector is not None:\n",
    "            embedding_matrix[i] = embedding_vector"
   ]
  },
  {
   "cell_type": "code",
   "execution_count": 12,
   "metadata": {},
   "outputs": [],
   "source": [
    "def word_with_index(position):\n",
    "    \"\"\"\n",
    "    the function shows a word at a given position (number) in the tokenizer\n",
    "    \"\"\"\n",
    "    key_list = list(word_index.keys())\n",
    "    val_list = list(word_index.values())\n",
    "    position = val_list.index(position)\n",
    "    print(key_list[position])"
   ]
  },
  {
   "cell_type": "code",
   "execution_count": 13,
   "metadata": {},
   "outputs": [
    {
     "name": "stdout",
     "output_type": "stream",
     "text": [
      "word with index 1: the\n",
      "word with index 10: this\n",
      "word with index 50: new\n",
      "word with index 100: even\n",
      "word with index 1000: cutting\n",
      "word with index 1500: teeth\n",
      "word with index 4000: store,\n"
     ]
    }
   ],
   "source": [
    "for i in [1,10,50,100,1000,1500,4000]:\n",
    "    print(f'word with index {i}:', end=\" \")\n",
    "    word_with_index(i)"
   ]
  },
  {
   "cell_type": "code",
   "execution_count": 14,
   "metadata": {},
   "outputs": [],
   "source": [
    "#a variable for training/loading models, if it is True the pretrained models are loaded otherwise the models are loaded\n",
    "load = True"
   ]
  },
  {
   "cell_type": "markdown",
   "metadata": {},
   "source": [
    "__Model training__"
   ]
  },
  {
   "cell_type": "code",
   "execution_count": 15,
   "metadata": {},
   "outputs": [],
   "source": [
    "#building neural networks\n",
    "if not load:\n",
    "    #model without sample weights\n",
    "    early_stopping = EarlyStopping(patience=4, monitor='val_loss', restore_best_weights=True)\n",
    "\n",
    "    model = Sequential()\n",
    "    model.add(Embedding(max_words, embedding_dim, input_length=maxlen))\n",
    "    model.add(Bidirectional(LSTM(64, return_sequences=False)))\n",
    "    model.add(Dense(64, 'tanh'))\n",
    "    model.add(Dense(32, 'tanh'))\n",
    "    model.add(Dense(2, 'softmax'))\n",
    "\n",
    "    #using the pretrained embeddings\n",
    "    model.layers[0].set_weights([embedding_matrix])\n",
    "    model.layers[0].trainable = False\n",
    "\n",
    "    model.compile(loss='binary_crossentropy', optimizer='adam', metrics=['binary_accuracy'])\n",
    "    model.summary()\n",
    "    model.fit(x_train, y_train, epochs=100, batch_size=32, \n",
    "              validation_split=0.2, \n",
    "              callbacks=[early_stopping])\n",
    "\n",
    "    model.save(f'B_64_300.h5')\n",
    "#-------------------------------------model with sample weights -----------------------------------------------------------\n",
    " \n",
    "    sample_weights = np.where(y_train[:,1] == 1., 1, 20) \n",
    "    modelSW = Sequential()\n",
    "    modelSW.add(Embedding(max_words, embedding_dim, input_length=maxlen))\n",
    "    modelSW.add(Bidirectional(LSTM(128, return_sequences=False)))\n",
    "    modelSW.add(Dense(128, 'tanh'))\n",
    "    modelSW.add(Dense(32, 'tanh'))\n",
    "    modelSW.add(Dense(2, 'softmax'))\n",
    "\n",
    "    #using the pretrained embeddings\n",
    "    modelSW.layers[0].set_weights([embedding_matrix])\n",
    "    modelSW.layers[0].trainable = False\n",
    "\n",
    "    modelSW.compile(loss='binary_crossentropy', optimizer='adam', metrics=['binary_accuracy'])\n",
    "    modelSW.summary()\n",
    "    modelSW.fit(x_train, y_train, epochs=100, batch_size=32, \n",
    "              validation_split=0.2, \n",
    "              callbacks=[early_stopping], sample_weight=sample_weights)\n",
    "    model.save(f'B_SW_128_300.h5') \n",
    "    \n",
    "    model.save(f'binary{str(date.today())}.h5')\n",
    "    modelSW.save(f'binarySW{str(date.today())}.h5')   \n",
    "    \n",
    "else:\n",
    "    #word embeddings dimension 300 with sample weights\n",
    "    binary_128_300 = load_model('models/B_128_300.h5')\n",
    "    \n",
    "    #word embeddings dimension 300 without sample weights    \n",
    "    binary_64_300 = load_model('models/B_64_300.h5')\n",
    "    \n",
    "    #word embeddings dimension 300 without sample weights with more neurons\n",
    "    binary_128_300SW = load_model('models/B_SW_128_300.h5')\n",
    "    \n",
    "    #word embeddings dimension 100 without sample weights    \n",
    "    binary_64_300SW = load_model('models/B_SW_64_300.h5')"
   ]
  },
  {
   "cell_type": "code",
   "execution_count": 16,
   "metadata": {},
   "outputs": [],
   "source": [
    "def ROC_NN(model, x_test, y_test):\n",
    "    \"\"\"\n",
    "    The function for calculating ROC parameters\n",
    "    \"\"\"\n",
    "    y_pred_proba = model.predict(x_test)\n",
    "    fpr, tpr, thresholds = roc_curve(y_test.argmax(1),y_pred_proba[:,1])\n",
    "    return fpr, tpr, thresholds"
   ]
  },
  {
   "cell_type": "markdown",
   "metadata": {},
   "source": [
    "## Binary models evaluation\n",
    "__ROC for built models__"
   ]
  },
  {
   "cell_type": "code",
   "execution_count": 24,
   "metadata": {},
   "outputs": [
    {
     "data": {
      "text/plain": [
       "<matplotlib.legend.Legend at 0x7faf540cc700>"
      ]
     },
     "execution_count": 24,
     "metadata": {},
     "output_type": "execute_result"
    },
    {
     "data": {
      "image/png": "[encoded data removed]",
      "text/plain": [
       "<Figure size 720x360 with 1 Axes>"
      ]
     },
     "metadata": {
      "needs_background": "light"
     },
     "output_type": "display_data"
    }
   ],
   "source": [
    "models = [(binary_128_300,'B_128_300'), \n",
    "          (binary_64_300,'B_64_300'),\n",
    "          (binary_128_300SW,'B_SW_128_300'),\n",
    "          (binary_64_300SW,'B_SW_64_300')]\n",
    "\n",
    "fig, ax = plt.subplots(figsize=(10,5))\n",
    "leg = []\n",
    "for m in models:\n",
    "    fpr, tpr, _ = ROC_NN(m[0], x_test, y_test)\n",
    "    ax.plot(fpr, tpr)\n",
    "    leg.append(m[1])\n",
    "    \n",
    "ax.legend(leg)"
   ]
  },
  {
   "cell_type": "code",
   "execution_count": 25,
   "metadata": {},
   "outputs": [],
   "source": [
    "final_model_binary = binary_64_300"
   ]
  },
  {
   "cell_type": "markdown",
   "metadata": {},
   "source": [
    "__Adjusting probability threshold__"
   ]
  },
  {
   "cell_type": "code",
   "execution_count": 26,
   "metadata": {},
   "outputs": [],
   "source": [
    "fpr, tpr, thr = ROC_NN(final_model_binary, x_test, y_test)"
   ]
  },
  {
   "cell_type": "code",
   "execution_count": 30,
   "metadata": {},
   "outputs": [
    {
     "data": {
      "image/png": "[encoded data removed]",
      "text/plain": [
       "<Figure size 1440x720 with 1 Axes>"
      ]
     },
     "metadata": {
      "needs_background": "light"
     },
     "output_type": "display_data"
    }
   ],
   "source": [
    "s, e = 1000, 1190\n",
    "fig, ax = plt.subplots(figsize=(20,10))\n",
    "ax.plot(fpr, tpr, color='black', lw=3)\n",
    "ax.plot(fpr[s:e], tpr[s:e], color='red', lw=3)\n",
    "ax.grid(which='both')\n",
    "plt.yticks(ticks=np.arange(0,1.1,0.1), labels=[0,0.1,0.2,0.3,0.4,0.5,0.6,0.7,0.8,0.9,1])\n",
    "plt.xticks(ticks=np.arange(0,1.1,0.1), labels=[0,0.1,0.2,0.3,0.4,0.5,0.6,0.7,0.8,0.9,1])\n",
    "plt.show()"
   ]
  },
  {
   "cell_type": "code",
   "execution_count": 34,
   "metadata": {},
   "outputs": [],
   "source": [
    "#array for selecting optimal probability threshold - the first and the last value of the red line in the chart above\n",
    "# np.hstack([tpr.reshape(-1, 1),fpr.reshape(-1, 1), thr.reshape(-1, 1)])[s:e]"
   ]
  },
  {
   "cell_type": "code",
   "execution_count": 33,
   "metadata": {},
   "outputs": [
    {
     "name": "stdout",
     "output_type": "stream",
     "text": [
      "[[ 370   36]\n",
      " [ 883 7647]]\n",
      "              precision    recall  f1-score   support\n",
      "\n",
      "           0       0.30      0.91      0.45       406\n",
      "           1       1.00      0.90      0.94      8530\n",
      "\n",
      "    accuracy                           0.90      8936\n",
      "   macro avg       0.65      0.90      0.69      8936\n",
      "weighted avg       0.96      0.90      0.92      8936\n",
      "\n",
      "number of reviews that are positive and are predicted as positive: 7647\n",
      "number of reviews that are negative and are predicted as negative: 370\n",
      "number of reviews that are negative and are predicted as positive: 36\n",
      "number of reviews that are positive and are predicted as negative: 883\n"
     ]
    }
   ],
   "source": [
    "threshold = 0.97\n",
    "y_pred_proba_pos = final_model_binary.predict(x_test)[:,1]\n",
    "y_pred = np.where(y_pred_proba_pos > threshold, 1, 0)\n",
    "print(confusion_matrix(y_test.argmax(1), y_pred))\n",
    "print(classification_report(y_test.argmax(1), y_pred))\n",
    "cm = confusion_matrix(y_test.argmax(1), y_pred)\n",
    "\n",
    "print(f'number of reviews that are positive and are predicted as positive: {cm[1][1]}')\n",
    "print(f'number of reviews that are negative and are predicted as negative: {cm[0][0]}')\n",
    "print(f'number of reviews that are negative and are predicted as positive: {cm[0][1]}')\n",
    "print(f'number of reviews that are positive and are predicted as negative: {cm[1][0]}')"
   ]
  },
  {
   "cell_type": "code",
   "execution_count": 61,
   "metadata": {},
   "outputs": [
    {
     "name": "stdout",
     "output_type": "stream",
     "text": [
      "[[ 275  131]\n",
      " [  93 8437]]\n",
      "              precision    recall  f1-score   support\n",
      "\n",
      "           0       0.75      0.68      0.71       406\n",
      "           1       0.98      0.99      0.99      8530\n",
      "\n",
      "    accuracy                           0.97      8936\n",
      "   macro avg       0.87      0.83      0.85      8936\n",
      "weighted avg       0.97      0.97      0.97      8936\n",
      "\n",
      "number of reviews that are positive and are predicted as positive: 8437\n",
      "number of reviews that are negative and are predicted as negative: 275\n",
      "number of reviews that are negative and are predicted as positive: 131\n",
      "number of reviews that are positive and are predicted as negative: 93\n"
     ]
    }
   ],
   "source": [
    "threshold = 0.768\n",
    "y_pred_proba_pos = final_model_binary.predict(x_test)[:,1]\n",
    "y_pred = np.where(y_pred_proba_pos > threshold, 1, 0)\n",
    "cm = confusion_matrix(y_test.argmax(1), y_pred)\n",
    "print(cm)\n",
    "print(classification_report(y_test.argmax(1), y_pred))\n",
    "print(f'number of reviews that are positive and are predicted as positive: {cm[1][1]}')\n",
    "print(f'number of reviews that are negative and are predicted as negative: {cm[0][0]}')\n",
    "print(f'number of reviews that are negative and are predicted as positive: {cm[0][1]}')\n",
    "print(f'number of reviews that are positive and are predicted as negative: {cm[1][0]}')"
   ]
  },
  {
   "cell_type": "markdown",
   "metadata": {},
   "source": [
    "# 2. Multiclass classification"
   ]
  },
  {
   "cell_type": "code",
   "execution_count": 66,
   "metadata": {},
   "outputs": [],
   "source": [
    "def model_summary(model, X_test, y_test):\n",
    "    \"\"\"\n",
    "    Function that prints classification report and confusion matrix for a given model\n",
    "    \"\"\"\n",
    "    \n",
    "    y_pred = model.predict(X_test).argmax(1)\n",
    "    print('\\nconfusion matrix\\n', confusion_matrix(y_test.argmax(1), y_pred))\n",
    "\n",
    "    print('\\nclassification report\\n',classification_report(y_test.argmax(1), y_pred))"
   ]
  },
  {
   "cell_type": "markdown",
   "metadata": {},
   "source": [
    "__Adjusting y values for keras__"
   ]
  },
  {
   "cell_type": "code",
   "execution_count": 70,
   "metadata": {},
   "outputs": [],
   "source": [
    "data.rating.replace({3:1, 1:2, 0:0}, inplace=True)"
   ]
  },
  {
   "cell_type": "markdown",
   "metadata": {},
   "source": [
    "__Preparing data for keras__"
   ]
  },
  {
   "cell_type": "code",
   "execution_count": 72,
   "metadata": {},
   "outputs": [],
   "source": [
    "X = data.review.values.tolist()\n",
    "y = data.loc[:, 'rating'].astype('float')\n",
    "y = to_categorical(y, num_classes=3)\n",
    "X_train_MC, X_test_MC, y_train_MC, y_test_MC = train_test_split(X, y, test_size=0.2, stratify=y, random_state=100)"
   ]
  },
  {
   "cell_type": "code",
   "execution_count": 73,
   "metadata": {},
   "outputs": [],
   "source": [
    "#top 10000 words are considered\n",
    "tokenizer_MC = Tokenizer(num_words=10000)\n",
    "tokenizer_MC.fit_on_texts(X_train_MC)\n",
    "sequences_train_MC = tokenizer_MC.texts_to_sequences(X_train_MC)\n",
    "sequences_test_MC = tokenizer_MC.texts_to_sequences(X_test_MC)\n",
    "\n",
    "maxlen=200\n",
    "x_train_MC = preprocessing.sequence.pad_sequences(sequences_train_MC, maxlen=maxlen)\n",
    "x_test_MC = preprocessing.sequence.pad_sequences(sequences_test_MC, maxlen=maxlen)\n",
    "\n",
    "word_index_MC = tokenizer_MC.word_index"
   ]
  },
  {
   "cell_type": "code",
   "execution_count": 74,
   "metadata": {},
   "outputs": [],
   "source": [
    "embedding_dim = 300\n",
    "max_words=10000\n",
    "\n",
    "embedding_matrix = np.zeros((max_words, embedding_dim))\n",
    "for word, i in word_index_MC.items():\n",
    "    if i < max_words:\n",
    "        embedding_vector = embeddings_index.get(word)\n",
    "        if embedding_vector is not None:\n",
    "            embedding_matrix[i] = embedding_vector"
   ]
  },
  {
   "cell_type": "code",
   "execution_count": 75,
   "metadata": {},
   "outputs": [],
   "source": [
    "load = True"
   ]
  },
  {
   "cell_type": "code",
   "execution_count": 77,
   "metadata": {},
   "outputs": [],
   "source": [
    "if not load:\n",
    "    early_stopping = EarlyStopping(patience=4, monitor='val_loss', restore_best_weights=True)\n",
    "    \n",
    "    #model without sample weights\n",
    "    model = Sequential()\n",
    "    model.add(Embedding(max_words, embedding_dim, input_length=maxlen))\n",
    "    model.add(Bidirectional(LSTM(256, return_sequences=False)))\n",
    "    model.add(Dense(256, 'tanh'))\n",
    "    model.add(Dense(64, 'tanh'))\n",
    "    model.add(Dense(3, 'softmax'))\n",
    "\n",
    "    #using the pretrained embeddings\n",
    "    model.layers[0].set_weights([embedding_matrix])\n",
    "    model.layers[0].trainable = False\n",
    "\n",
    "    model.compile(loss='categorical_crossentropy', optimizer='adam', metrics=['categorical_accuracy'])\n",
    "    model.summary()\n",
    "    model.fit(x_train_MC, y_train_MC, epochs=100, batch_size=32, validation_split=0.2, callbacks=[early_stopping])\n",
    "    \n",
    "    \n",
    "    model.save(f'multiclass{str(date.today())}.h5')\n",
    "\n",
    "#-------------------------------------------model with sample weights------------------------------------------------------  \n",
    "    sample_weights = np.where(y_train_MC[:,2] == 1., 1, 20) \n",
    "\n",
    "    modelSW = Sequential()\n",
    "    modelSW.add(Embedding(max_words, embedding_dim, input_length=maxlen))\n",
    "    modelSW.add(Bidirectional(LSTM(256, return_sequences=False)))\n",
    "    modelSW.add(Dense(256, 'tanh'))\n",
    "    modelSW.add(Dense(64, 'tanh'))\n",
    "    modelSW.add(Dense(3, 'softmax'))\n",
    "\n",
    "    #using the pretrained embeddings\n",
    "    modelSW.layers[0].set_weights([embedding_matrix])\n",
    "    modelSW.layers[0].trainable = False\n",
    "\n",
    "    modelSW.compile(loss='categorical_crossentropy', optimizer='adam', metrics=['categorical_accuracy'])\n",
    "    modelSW.summary()\n",
    "    modelSW.fit(x_train_MC, y_train_MC, epochs=100, batch_size=32, \n",
    "              validation_split=0.2, \n",
    "              callbacks=[early_stopping], sample_weight=sample_weights)\n",
    "\n",
    "    modelSW.save(f'multiclassSW{str(date.today())}.h5')\n",
    "\n",
    "\n",
    "else:\n",
    "    #word embeddings dimension 300 with sample weights\n",
    "    MC_300SW = load_model('models/NN_MC_300SW.h5')\n",
    "\n",
    "    #word embeddings dimension 300 without sample weights    \n",
    "    MC_300_2 = load_model('models/NN_MC_300_2.h5')\n",
    "\n",
    "    #word embeddings dimension 300 without sample weights with more neurons\n",
    "    MC_300SW_2 = load_model('models/NN_MC_300SW_2.h5')\n",
    "\n",
    "    #word embeddings dimension 100 without sample weights    \n",
    "    MC_300 = load_model('models/NN_MC_300.h5')"
   ]
  },
  {
   "cell_type": "code",
   "execution_count": 78,
   "metadata": {},
   "outputs": [
    {
     "name": "stdout",
     "output_type": "stream",
     "text": [
      "model models/MC_300\n",
      "\n",
      "confusion matrix\n",
      " [[  55   13  338]\n",
      " [  14   12  262]\n",
      " [ 111   44 8375]]\n",
      "\n",
      "classification report\n",
      "               precision    recall  f1-score   support\n",
      "\n",
      "           0       0.31      0.14      0.19       406\n",
      "           1       0.17      0.04      0.07       288\n",
      "           2       0.93      0.98      0.96      8530\n",
      "\n",
      "    accuracy                           0.92      9224\n",
      "   macro avg       0.47      0.39      0.40      9224\n",
      "weighted avg       0.88      0.92      0.90      9224\n",
      "\n",
      "\n",
      "model models/MC_300_2\n",
      "\n",
      "confusion matrix\n",
      " [[  84    1  321]\n",
      " [  35    1  252]\n",
      " [ 234    7 8289]]\n",
      "\n",
      "classification report\n",
      "               precision    recall  f1-score   support\n",
      "\n",
      "           0       0.24      0.21      0.22       406\n",
      "           1       0.11      0.00      0.01       288\n",
      "           2       0.94      0.97      0.95      8530\n",
      "\n",
      "    accuracy                           0.91      9224\n",
      "   macro avg       0.43      0.39      0.39      9224\n",
      "weighted avg       0.88      0.91      0.89      9224\n",
      "\n",
      "\n",
      "model models/MC_300SW\n",
      "\n",
      "confusion matrix\n",
      " [[ 136   64  206]\n",
      " [  63   49  176]\n",
      " [ 913  496 7121]]\n",
      "\n",
      "classification report\n",
      "               precision    recall  f1-score   support\n",
      "\n",
      "           0       0.12      0.33      0.18       406\n",
      "           1       0.08      0.17      0.11       288\n",
      "           2       0.95      0.83      0.89      8530\n",
      "\n",
      "    accuracy                           0.79      9224\n",
      "   macro avg       0.38      0.45      0.39      9224\n",
      "weighted avg       0.89      0.79      0.83      9224\n",
      "\n",
      "\n",
      "model models/MC_300SW_2\n",
      "\n",
      "confusion matrix\n",
      " [[  58  208  140]\n",
      " [  17  141  130]\n",
      " [ 174 1771 6585]]\n",
      "\n",
      "classification report\n",
      "               precision    recall  f1-score   support\n",
      "\n",
      "           0       0.23      0.14      0.18       406\n",
      "           1       0.07      0.49      0.12       288\n",
      "           2       0.96      0.77      0.86      8530\n",
      "\n",
      "    accuracy                           0.74      9224\n",
      "   macro avg       0.42      0.47      0.38      9224\n",
      "weighted avg       0.90      0.74      0.80      9224\n",
      "\n",
      "\n"
     ]
    }
   ],
   "source": [
    "modelsMC = [(MC_300,'MC_300'), \n",
    "            (MC_300_2,'MC_300_2'),\n",
    "            (MC_300SW,'MC_300SW'),\n",
    "            (MC_300SW_2,'MC_300SW_2')]\n",
    "\n",
    "for m in modelsMC:\n",
    "    print(f'model {m[1]}')\n",
    "    model_summary(m[0], x_test_MC, y_test_MC)\n",
    "    print()"
   ]
  },
  {
   "cell_type": "markdown",
   "metadata": {},
   "source": [
    "__Final summary can be found in `Final_model_summary.ipynb` notebook__"
   ]
  }
 ],
 "metadata": {
  "kernelspec": {
   "display_name": "Python 3",
   "language": "python",
   "name": "python3"
  },
  "language_info": {
   "codemirror_mode": {
    "name": "ipython",
    "version": 3
   },
   "file_extension": ".py",
   "mimetype": "text/x-python",
   "name": "python",
   "nbconvert_exporter": "python",
   "pygments_lexer": "ipython3",
   "version": "3.8.2"
  }
 },
 "nbformat": 4,
 "nbformat_minor": 4
}
