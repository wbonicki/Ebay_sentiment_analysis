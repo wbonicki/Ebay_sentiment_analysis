{
 "cells": [
  {
   "cell_type": "markdown",
   "metadata": {},
   "source": [
    "# Neural networks approach for sentiment analysis\n",
    "\n",
    "This notebook presents neural networks approach for predicting reviews sentiment. The data was analized and prepared for modelling in `Data_analysis.ipynb` notebook. Three kinds of layers were used:\n",
    " - Embedding (using pretrained _Glove_ word embeddings)\n",
    " - Bidirectional LSTM layer\n",
    " - Dense layer\n",
    "\n",
    "__Note:__ Because almost 93% of the reviews are positive some imbalanced classification problem steps were undertaken.\n",
    "\n",
    "Two cases were considered:\n",
    " 1. Binary classification - only positive and negative reviews were taken into account. Networks were built using two approaches\n",
    " - 1.1. Fitting model without any operations with regard to imlabance\n",
    " - 1.2. Usage of sample weight parameters in model fitting\n",
    " \n",
    " 2. Multiclass classification - all kinds of reviews were taken into account (positive, negative, neutral).  Networks were built using two approaches\n",
    " - 2.1. Fitting model without any operations with regard to imlabance\n",
    " - 2.2. Usage of sample weight parameters in model fitting\n",
    " \n",
    "__Note:__ Many different layer settings were tried out and only small part of these models is shown in this notebook"
   ]
  },
  {
   "cell_type": "markdown",
   "metadata": {},
   "source": [
    "__Loading libraries__"
   ]
  },
  {
   "cell_type": "code",
   "execution_count": 1,
   "metadata": {},
   "outputs": [],
   "source": [
    "import pandas as pd\n",
    "import numpy as np\n",
    "from sklearn.base import BaseEstimator, TransformerMixin\n",
    "from sklearn.pipeline import Pipeline\n",
    "from sklearn.utils.class_weight import compute_class_weight\n",
    "from nltk.corpus import stopwords\n",
    "from sklearn.model_selection import train_test_split\n",
    "from sklearn.metrics import confusion_matrix,\n",
    "classification_report, plot_roc_curve, roc_curve, classification_report\n",
    "\n",
    "import os\n",
    "import matplotlib.pyplot as plt\n",
    "from datetime import date"
   ]
  },
  {
   "cell_type": "code",
   "execution_count": 2,
   "metadata": {},
   "outputs": [],
   "source": [
    "from keras.layers import Embedding, Flatten, Dense, Bidirectional, LSTM\n",
    "from keras import preprocessing\n",
    "from keras.models import Sequential\n",
    "from keras.utils import to_categorical\n",
    "from keras.callbacks import EarlyStopping\n",
    "from keras.preprocessing.text import Tokenizer\n",
    "from keras.models import load_model"
   ]
  },
  {
   "cell_type": "code",
   "execution_count": 3,
   "metadata": {},
   "outputs": [],
   "source": [
    "pd.set_option(\"max_colwidth\", 1000)"
   ]
  },
  {
   "cell_type": "markdown",
   "metadata": {},
   "source": [
    "__Loading the dataset__"
   ]
  },
  {
   "cell_type": "code",
   "execution_count": 4,
   "metadata": {},
   "outputs": [],
   "source": [
    "data = pd.read_csv('Data_NN.csv', index_col='Unnamed: 0')"
   ]
  },
  {
   "cell_type": "markdown",
   "metadata": {},
   "source": [
    "__Loading the pretrained word embeddings (_glove_ embedding)__"
   ]
  },
  {
   "cell_type": "code",
   "execution_count": 5,
   "metadata": {},
   "outputs": [],
   "source": [
    "# available dimensions: 50, 100, 200, 300\n",
    "embedding_dim = 300\n",
    "# how many top words will be considered\n",
    "max_words = 10000\n",
    "\n",
    "# loading pretrained word embeddings\n",
    "dir_ = 'glove'\n",
    "embeddings_index = {}\n",
    "f = open(os.path.join(dir_, f'glove.6B.{embedding_dim}d.txt'))\n",
    "for line in f:\n",
    "    values = line.split()\n",
    "    word = values[0]\n",
    "    coefs = np.asarray(values[1:], dtype='float32')\n",
    "    embeddings_index[word] = coefs\n",
    "f.close()"
   ]
  },
  {
   "cell_type": "markdown",
   "metadata": {},
   "source": [
    "# 1. Binary classification\n",
    "\n",
    "__Preparing data for keras__"
   ]
  },
  {
   "cell_type": "code",
   "execution_count": 6,
   "metadata": {},
   "outputs": [],
   "source": [
    "data_preprocessed_binary = data[data.rating != 3]"
   ]
  },
  {
   "cell_type": "code",
   "execution_count": 7,
   "metadata": {},
   "outputs": [],
   "source": [
    "# changing pandas reviews to list \n",
    "X = data_preprocessed_binary.review.values.tolist()\n",
    "y = data_preprocessed_binary.loc[:, 'rating'].astype('float32').values"
   ]
  },
  {
   "cell_type": "code",
   "execution_count": 8,
   "metadata": {},
   "outputs": [],
   "source": [
    "# splitting the dataset into test and train set\n",
    "y = to_categorical(y, num_classes=2)\n",
    "X_train, X_test, y_train, y_test = train_test_split(\n",
    "    X, y, test_size=0.2, stratify=y, random_state=100)"
   ]
  },
  {
   "cell_type": "code",
   "execution_count": 9,
   "metadata": {},
   "outputs": [],
   "source": [
    "# top 10000 words are considered\n",
    "tokenizer = Tokenizer(\n",
    "    num_words=max_words, lower=False, filters=\"\")\n",
    "tokenizer.fit_on_texts(X)\n",
    "\n",
    "# changing reviews to sequences of integers\n",
    "sequences_train = tokenizer.texts_to_sequences(X_train)\n",
    "sequences_test = tokenizer.texts_to_sequences(X_test)\n",
    "\n",
    "# max length of a review; different lengths were tested as well\n",
    "maxlen=200\n",
    "x_train = preprocessing.sequence.pad_sequences(\n",
    "    sequences_train, maxlen=maxlen)\n",
    "x_test = preprocessing.sequence.pad_sequences(\n",
    "    sequences_test, maxlen=maxlen)\n",
    "\n",
    "# what index has a given word\n",
    "word_index = tokenizer.word_index"
   ]
  },
  {
   "cell_type": "code",
   "execution_count": 10,
   "metadata": {},
   "outputs": [],
   "source": [
    "# building embedding matrix\n",
    "embedding_matrix = np.zeros((max_words, embedding_dim))\n",
    "for word, i in word_index.items():\n",
    "    if i < max_words:\n",
    "        embedding_vector = embeddings_index.get(word)\n",
    "        if embedding_vector is not None:\n",
    "            embedding_matrix[i] = embedding_vector"
   ]
  },
  {
   "cell_type": "code",
   "execution_count": 11,
   "metadata": {},
   "outputs": [],
   "source": [
    "def word_with_index(position):\n",
    "    \"\"\"\n",
    "    the function shows a word at a given position (number)\n",
    "    in the tokenizer\n",
    "    \"\"\"\n",
    "    key_list = list(word_index.keys())\n",
    "    val_list = list(word_index.values())\n",
    "    position = val_list.index(position)\n",
    "    print(key_list[position])"
   ]
  },
  {
   "cell_type": "code",
   "execution_count": 12,
   "metadata": {},
   "outputs": [
    {
     "name": "stdout",
     "output_type": "stream",
     "text": [
      "word with index 1: the\n",
      "word with index 10: this\n",
      "word with index 50: new\n",
      "word with index 100: even\n",
      "word with index 1000: cutting\n",
      "word with index 1500: teeth\n",
      "word with index 4000: store,\n"
     ]
    }
   ],
   "source": [
    "for i in [1, 10, 50, 100, 1000, 1500, 4000]:\n",
    "    print(f'word with index {i}:', end=\" \")\n",
    "    word_with_index(i)"
   ]
  },
  {
   "cell_type": "code",
   "execution_count": 50,
   "metadata": {},
   "outputs": [],
   "source": [
    "# a variable for training/loading models\n",
    "# if it is True the pretrained models are loaded\n",
    "# otherwise the models are loaded\n",
    "load = True"
   ]
  },
  {
   "cell_type": "markdown",
   "metadata": {},
   "source": [
    "__Model training__"
   ]
  },
  {
   "cell_type": "code",
   "execution_count": 51,
   "metadata": {},
   "outputs": [],
   "source": [
    "# building neural networks\n",
    "if not load:\n",
    "    # model without sample weights\n",
    "    early_stopping = EarlyStopping(\n",
    "        patience=4, monitor='val_loss', restore_best_weights=True)\n",
    "\n",
    "    model = Sequential()\n",
    "    model.add(Embedding(max_words, embedding_dim, input_length=maxlen))\n",
    "    model.add(Bidirectional(LSTM(128, return_sequences=False)))\n",
    "    model.add(Dense(128, 'tanh'))\n",
    "    model.add(Dense(32, 'tanh'))\n",
    "    model.add(Dense(2, 'softmax'))\n",
    "\n",
    "    # using the pretrained embeddings\n",
    "    model.layers[0].set_weights([embedding_matrix])\n",
    "    model.layers[0].trainable = False\n",
    "\n",
    "    model.compile(\n",
    "        loss='binary_crossentropy', optimizer='adam', metrics=[\n",
    "            'binary_accuracy'])\n",
    "    model.summary()\n",
    "    model.fit(\n",
    "        x_train,\n",
    "        y_train,\n",
    "        epochs=100,\n",
    "        batch_size=32, \n",
    "        validation_split=0.2, \n",
    "        callbacks=[early_stopping])\n",
    "\n",
    "#-------------------------------------model with sample weights -----------------------------------------------------------\n",
    " \n",
    "    sample_weights = np.where(y_train[:, 1] == 1., 1., 20.) \n",
    "    modelSW = Sequential()\n",
    "    \n",
    "    modelSW.add(\n",
    "        Embedding(\n",
    "            max_words, embedding_dim, input_length=maxlen))\n",
    "    \n",
    "    modelSW.add(\n",
    "        Bidirectional(\n",
    "            LSTM(128, return_sequences=False)))\n",
    "    \n",
    "    modelSW.add(Dense(128, 'tanh'))\n",
    "    \n",
    "    modelSW.add(Dense(32, 'tanh'))\n",
    "    \n",
    "    modelSW.add(Dense(2, 'softmax'))\n",
    "\n",
    "    # using the pretrained embeddings\n",
    "    modelSW.layers[0].set_weights([embedding_matrix])\n",
    "    modelSW.layers[0].trainable = False\n",
    "\n",
    "    modelSW.compile(\n",
    "        loss='binary_crossentropy',\n",
    "        optimizer='adam',\n",
    "        metrics=['binary_accuracy'])\n",
    "    \n",
    "    modelSW.summary()\n",
    "    \n",
    "    modelSW.fit(x_train,\n",
    "                y_train,\n",
    "                epochs=100,\n",
    "                batch_size=32, \n",
    "                validation_split=0.2, \n",
    "                callbacks=[early_stopping],\n",
    "                sample_weight=sample_weights)\n",
    "\n",
    "#     modelB_128_128_300 = model\n",
    "#     modelB_128_128_300SW = modelSW\n",
    "    \n",
    "else:\n",
    "    # word embeddings dimension 300 with sample weights\n",
    "    modelB_64_64_300 = load_model('models/modelB_64_64_300.h5')\n",
    "    \n",
    "    # word embeddings dimension 300 without sample weights    \n",
    "    modelB_64_64_300SW = load_model('models/modelB_64_64_300SW.h5')\n",
    "    \n",
    "    # word embeddings dimension 300 without sample weights with more neurons\n",
    "    modelB_128_128_300 = load_model('models/modelB_128_128_300.h5')\n",
    "    \n",
    "    # word embeddings dimension 100 without sample weights    \n",
    "    modelB_128_128_300SW = load_model('models/modelB_128_128_300SW.h5')"
   ]
  },
  {
   "cell_type": "code",
   "execution_count": 22,
   "metadata": {},
   "outputs": [],
   "source": [
    "def ROC_NN(model, x_test, y_test):\n",
    "    \"\"\"\n",
    "    The function for calculating ROC parameters\n",
    "    \"\"\"\n",
    "    y_pred_proba = model.predict(x_test)\n",
    "    fpr, tpr, thresholds = roc_curve(y_test.argmax(1),y_pred_proba[:,1])\n",
    "    return fpr, tpr, thresholds"
   ]
  },
  {
   "cell_type": "markdown",
   "metadata": {},
   "source": [
    "## Binary models evaluation\n",
    "__ROC for built models__"
   ]
  },
  {
   "cell_type": "code",
   "execution_count": 23,
   "metadata": {},
   "outputs": [
    {
     "data": {
      "text/plain": [
       "<matplotlib.legend.Legend at 0x7f2f12c188b0>"
      ]
     },
     "execution_count": 23,
     "metadata": {},
     "output_type": "execute_result"
    },
    {
     "data": {
      "image/png": "[encoded data removed]",
      "text/plain": [
       "<Figure size 720x360 with 1 Axes>"
      ]
     },
     "metadata": {
      "needs_background": "light"
     },
     "output_type": "display_data"
    }
   ],
   "source": [
    "models = [(modelB_64_64_300, 'modelB_64_64_300'), \n",
    "          (modelB_64_64_300SW, 'modelB_64_64_300SW'),\n",
    "          (modelB_128_128_300, 'modelB_128_128_300'),\n",
    "          (modelB_128_128_300SW, 'modelB_128_128_300SW')]\n",
    "\n",
    "fig, ax = plt.subplots(figsize=(10,5))\n",
    "leg = []\n",
    "for m in models:\n",
    "    fpr, tpr, _ = ROC_NN(m[0], x_test, y_test)\n",
    "    ax.plot(fpr, tpr)\n",
    "    leg.append(m[1])\n",
    "    \n",
    "ax.legend(leg)"
   ]
  },
  {
   "cell_type": "code",
   "execution_count": 26,
   "metadata": {},
   "outputs": [],
   "source": [
    "final_model_binary = modelB_64_64_300"
   ]
  },
  {
   "cell_type": "markdown",
   "metadata": {},
   "source": [
    "__Adjusting probability threshold__"
   ]
  },
  {
   "cell_type": "code",
   "execution_count": 27,
   "metadata": {},
   "outputs": [],
   "source": [
    "fpr, tpr, thr = ROC_NN(final_model_binary, x_test, y_test)"
   ]
  },
  {
   "cell_type": "code",
   "execution_count": 31,
   "metadata": {},
   "outputs": [
    {
     "data": {
      "image/png": "[encoded data removed]",
      "text/plain": [
       "<Figure size 1440x720 with 1 Axes>"
      ]
     },
     "metadata": {
      "needs_background": "light"
     },
     "output_type": "display_data"
    }
   ],
   "source": [
    "s, e = 1400, 1590\n",
    "fig, ax = plt.subplots(figsize=(20,10))\n",
    "ax.plot(fpr, tpr, color='black', lw=3)\n",
    "ax.plot(fpr[s:e], tpr[s:e], color='red', lw=3)\n",
    "ax.grid(which='both')\n",
    "plt.yticks(ticks=np.arange(0,1.1,0.1), labels=[\n",
    "    0, 0.1, 0.2, 0.3, 0.4, 0.5, 0.6, 0.7, 0.8, 0.9, 1])\n",
    "plt.xticks(ticks=np.arange(0,1.1,0.1), labels=[\n",
    "    0, 0.1, 0.2, 0.3, 0.4, 0.5, 0.6, 0.7, 0.8, 0.9, 1])\n",
    "plt.show()"
   ]
  },
  {
   "cell_type": "code",
   "execution_count": 34,
   "metadata": {},
   "outputs": [],
   "source": [
    "# array for selecting optimal probability threshold\n",
    "# the first and the last value of the red line in the chart above\n",
    "# np.hstack([tpr.reshape(-1, 1),fpr.reshape(-1, 1), thr.reshape(-1, 1)])[s:e]"
   ]
  },
  {
   "cell_type": "code",
   "execution_count": 33,
   "metadata": {},
   "outputs": [
    {
     "name": "stdout",
     "output_type": "stream",
     "text": [
      "[[ 365   41]\n",
      " [ 706 7824]]\n",
      "              precision    recall  f1-score   support\n",
      "\n",
      "           0       0.34      0.90      0.49       406\n",
      "           1       0.99      0.92      0.95      8530\n",
      "\n",
      "    accuracy                           0.92      8936\n",
      "   macro avg       0.67      0.91      0.72      8936\n",
      "weighted avg       0.97      0.92      0.93      8936\n",
      "\n",
      "number of reviews that are positive and are predicted as positive: 7824\n",
      "number of reviews that are negative and are predicted as negative: 365\n",
      "number of reviews that are negative and are predicted as positive: 41\n",
      "number of reviews that are positive and are predicted as negative: 706\n"
     ]
    }
   ],
   "source": [
    "threshold = 0.95\n",
    "y_pred_proba_pos = final_model_binary.predict(x_test)[:,1]\n",
    "y_pred = np.where(y_pred_proba_pos > threshold, 1, 0)\n",
    "print(confusion_matrix(y_test.argmax(1), y_pred))\n",
    "print(classification_report(y_test.argmax(1), y_pred))\n",
    "cm = confusion_matrix(y_test.argmax(1), y_pred)\n",
    "\n",
    "print(f'number of reviews that are positive and are predicted as positive: {cm[1][1]}')\n",
    "print(f'number of reviews that are negative and are predicted as negative: {cm[0][0]}')\n",
    "print(f'number of reviews that are negative and are predicted as positive: {cm[0][1]}')\n",
    "print(f'number of reviews that are positive and are predicted as negative: {cm[1][0]}')"
   ]
  },
  {
   "cell_type": "markdown",
   "metadata": {},
   "source": [
    "# 2. Multiclass classification"
   ]
  },
  {
   "cell_type": "code",
   "execution_count": 35,
   "metadata": {},
   "outputs": [],
   "source": [
    "def model_summary(model, X_test, y_test):\n",
    "    \"\"\"\n",
    "    Function that prints classification report and confusion matrix for a given model\n",
    "    \"\"\"\n",
    "    y_pred = model.predict(X_test).argmax(1)\n",
    "    print('\\nconfusion matrix\\n', confusion_matrix(y_test.argmax(1), y_pred))\n",
    "\n",
    "    print('\\nclassification report\\n',classification_report(y_test.argmax(1), y_pred))"
   ]
  },
  {
   "cell_type": "markdown",
   "metadata": {},
   "source": [
    "__Adjusting y values for keras__"
   ]
  },
  {
   "cell_type": "code",
   "execution_count": 36,
   "metadata": {},
   "outputs": [],
   "source": [
    "data.rating.replace({3:1, 1:2, 0:0}, inplace=True)"
   ]
  },
  {
   "cell_type": "markdown",
   "metadata": {},
   "source": [
    "__Preparing data for keras__"
   ]
  },
  {
   "cell_type": "code",
   "execution_count": 37,
   "metadata": {},
   "outputs": [],
   "source": [
    "X = data.review.values.tolist()\n",
    "y = data.loc[:, 'rating'].astype('float')\n",
    "y = to_categorical(y, num_classes=3)\n",
    "X_train_MC, X_test_MC, y_train_MC, y_test_MC = train_test_split(\n",
    "    X, y, test_size=0.2, stratify=y, random_state=100)"
   ]
  },
  {
   "cell_type": "code",
   "execution_count": 38,
   "metadata": {},
   "outputs": [],
   "source": [
    "# top 10000 words are considered\n",
    "tokenizer_MC = Tokenizer(num_words=10000)\n",
    "tokenizer_MC.fit_on_texts(X_train_MC)\n",
    "sequences_train_MC = tokenizer_MC.texts_to_sequences(X_train_MC)\n",
    "sequences_test_MC = tokenizer_MC.texts_to_sequences(X_test_MC)\n",
    "\n",
    "maxlen=200\n",
    "x_train_MC = preprocessing.sequence.pad_sequences(\n",
    "    sequences_train_MC, maxlen=maxlen)\n",
    "\n",
    "x_test_MC = preprocessing.sequence.pad_sequences(\n",
    "    sequences_test_MC, maxlen=maxlen)\n",
    "\n",
    "word_index_MC = tokenizer_MC.word_index"
   ]
  },
  {
   "cell_type": "code",
   "execution_count": 39,
   "metadata": {},
   "outputs": [],
   "source": [
    "embedding_dim = 300\n",
    "max_words=10000\n",
    "\n",
    "embedding_matrix = np.zeros((max_words, embedding_dim))\n",
    "for word, i in word_index_MC.items():\n",
    "    if i < max_words:\n",
    "        embedding_vector = embeddings_index.get(word)\n",
    "        if embedding_vector is not None:\n",
    "            embedding_matrix[i] = embedding_vector"
   ]
  },
  {
   "cell_type": "code",
   "execution_count": 48,
   "metadata": {},
   "outputs": [],
   "source": [
    "load = True"
   ]
  },
  {
   "cell_type": "code",
   "execution_count": 49,
   "metadata": {},
   "outputs": [],
   "source": [
    "if not load:\n",
    "    early_stopping = EarlyStopping(\n",
    "        patience=4, monitor='val_loss', restore_best_weights=True)\n",
    "    \n",
    "    # model without sample weights\n",
    "    model = Sequential()\n",
    "    model.add(\n",
    "        Embedding(max_words, embedding_dim, input_length=maxlen))\n",
    "    \n",
    "    model.add(\n",
    "        Bidirectional(LSTM(128, return_sequences=False)))\n",
    "    \n",
    "    model.add(Dense(128, 'tanh'))\n",
    "    \n",
    "    model.add(Dense(32, 'tanh'))\n",
    "    \n",
    "    model.add(Dense(3, 'softmax'))\n",
    "\n",
    "    #using the pretrained embeddings\n",
    "    model.layers[0].set_weights([embedding_matrix])\n",
    "    model.layers[0].trainable = False\n",
    "\n",
    "    model.compile(\n",
    "        loss='categorical_crossentropy',\n",
    "        optimizer='adam',\n",
    "        metrics=['categorical_accuracy'])\n",
    "    \n",
    "    model.summary()\n",
    "    model.fit(\n",
    "        x_train_MC,\n",
    "        y_train_MC,\n",
    "        epochs=100,\n",
    "        batch_size=32,\n",
    "        validation_split=0.2,\n",
    "        callbacks=[early_stopping])\n",
    "    \n",
    "    \n",
    "#     model.save(f'multiclass{str(date.today())}.h5')\n",
    "\n",
    "#-------------------------------------------model with sample weights------------------------------------------------------  \n",
    "    sample_weights = np.where(y_train_MC[:,2] == 1., 1., 20.) \n",
    "\n",
    "    modelSW = Sequential()\n",
    "    modelSW.add(Embedding(max_words, embedding_dim, input_length=maxlen))\n",
    "    modelSW.add(Bidirectional(LSTM(128, return_sequences=False)))\n",
    "    modelSW.add(Dense(128, 'tanh'))\n",
    "    modelSW.add(Dense(32, 'tanh'))\n",
    "    modelSW.add(Dense(3, 'softmax'))\n",
    "\n",
    "    #using the pretrained embeddings\n",
    "    modelSW.layers[0].set_weights([embedding_matrix])\n",
    "    modelSW.layers[0].trainable = False\n",
    "\n",
    "    modelSW.compile(\n",
    "        loss='categorical_crossentropy',\n",
    "        optimizer='adam',\n",
    "        metrics=['categorical_accuracy'])\n",
    "    \n",
    "    modelSW.summary()\n",
    "    modelSW.fit(\n",
    "        x_train_MC,\n",
    "        y_train_MC,\n",
    "        epochs=100,\n",
    "        batch_size=32, \n",
    "        validation_split=0.2, \n",
    "        callbacks=[early_stopping],\n",
    "        sample_weight=sample_weights)\n",
    "    \n",
    "#     modelMC_128_128_300 = model\n",
    "#     modelMC_128_128_300SW = modelSW\n",
    "\n",
    "else:\n",
    "    # word embeddings dimension 300 with sample weights\n",
    "    modelMC_64_64_300 = load_model('models/modelMC_64_64_300.h5')\n",
    "\n",
    "    # word embeddings dimension 300 without sample weights    \n",
    "    modelMC_64_64_300SW = load_model('models/modelMC_64_64_300SW.h5')\n",
    "\n",
    "    # word embeddings dimension 300 without sample weights with more neurons\n",
    "    modelMC_128_128_300 = load_model('models/modelMC_128_128_300.h5')\n",
    "\n",
    "    # word embeddings dimension 100 without sample weights    \n",
    "    modelMC_128_128_300SW = load_model('models/modelMC_128_128_300SW.h5')"
   ]
  },
  {
   "cell_type": "markdown",
   "metadata": {},
   "source": [
    "## Multiclass models evaluation"
   ]
  },
  {
   "cell_type": "code",
   "execution_count": 46,
   "metadata": {},
   "outputs": [
    {
     "name": "stdout",
     "output_type": "stream",
     "text": [
      "model MC_300\n",
      "\n",
      "confusion matrix\n",
      " [[ 269    7  130]\n",
      " [  68   15  205]\n",
      " [  87   16 8427]]\n",
      "\n",
      "classification report\n",
      "               precision    recall  f1-score   support\n",
      "\n",
      "           0       0.63      0.66      0.65       406\n",
      "           1       0.39      0.05      0.09       288\n",
      "           2       0.96      0.99      0.97      8530\n",
      "\n",
      "    accuracy                           0.94      9224\n",
      "   macro avg       0.66      0.57      0.57      9224\n",
      "weighted avg       0.93      0.94      0.93      9224\n",
      "\n",
      "\n",
      "model MC_300_2\n",
      "\n",
      "confusion matrix\n",
      " [[ 352   38   16]\n",
      " [ 115  110   63]\n",
      " [ 516  679 7335]]\n",
      "\n",
      "classification report\n",
      "               precision    recall  f1-score   support\n",
      "\n",
      "           0       0.36      0.87      0.51       406\n",
      "           1       0.13      0.38      0.20       288\n",
      "           2       0.99      0.86      0.92      8530\n",
      "\n",
      "    accuracy                           0.85      9224\n",
      "   macro avg       0.49      0.70      0.54      9224\n",
      "weighted avg       0.93      0.85      0.88      9224\n",
      "\n",
      "\n",
      "model MC_300SW\n",
      "\n",
      "confusion matrix\n",
      " [[ 257   11  138]\n",
      " [  62   17  209]\n",
      " [  72   24 8434]]\n",
      "\n",
      "classification report\n",
      "               precision    recall  f1-score   support\n",
      "\n",
      "           0       0.66      0.63      0.64       406\n",
      "           1       0.33      0.06      0.10       288\n",
      "           2       0.96      0.99      0.97      8530\n",
      "\n",
      "    accuracy                           0.94      9224\n",
      "   macro avg       0.65      0.56      0.57      9224\n",
      "weighted avg       0.93      0.94      0.93      9224\n",
      "\n",
      "\n",
      "model MC_300SW_2\n",
      "\n",
      "confusion matrix\n",
      " [[ 326   50   30]\n",
      " [ 114  100   74]\n",
      " [ 278  715 7537]]\n",
      "\n",
      "classification report\n",
      "               precision    recall  f1-score   support\n",
      "\n",
      "           0       0.45      0.80      0.58       406\n",
      "           1       0.12      0.35      0.17       288\n",
      "           2       0.99      0.88      0.93      8530\n",
      "\n",
      "    accuracy                           0.86      9224\n",
      "   macro avg       0.52      0.68      0.56      9224\n",
      "weighted avg       0.94      0.86      0.89      9224\n",
      "\n",
      "\n"
     ]
    }
   ],
   "source": [
    "modelsMC = [(modelMC_64_64_300, 'modelMC_64_64_300'), \n",
    "            (modelMC_64_64_300SW, 'modelMC_64_64_300SW'),\n",
    "            (modelMC_128_128_300, 'modelMC_128_128_300'),\n",
    "            (modelMC_128_128_300SW, 'modelMC_128_128_300SW')]\n",
    "\n",
    "for m in modelsMC:\n",
    "    print(f'model {m[1]}')\n",
    "    model_summary(m[0], x_test_MC, y_test_MC)\n",
    "    print()"
   ]
  },
  {
   "cell_type": "markdown",
   "metadata": {},
   "source": [
    "### Conclusion: these models perform rather poorly and they weren't analized in details "
   ]
  }
 ],
 "metadata": {
  "kernelspec": {
   "display_name": "Python 3",
   "language": "python",
   "name": "python3"
  },
  "language_info": {
   "codemirror_mode": {
    "name": "ipython",
    "version": 3
   },
   "file_extension": ".py",
   "mimetype": "text/x-python",
   "name": "python",
   "nbconvert_exporter": "python",
   "pygments_lexer": "ipython3",
   "version": "3.8.5"
  }
 },
 "nbformat": 4,
 "nbformat_minor": 4
}
