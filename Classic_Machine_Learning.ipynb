{
 "cells": [
  {
   "cell_type": "markdown",
   "metadata": {},
   "source": [
    "# Classic machine learning approach for sentiment analysis\n",
    "\n",
    "This notebook presents classic machine learning approach for predicting reviews sentiment. By classic machine learning approach the author means  everything that is not neural networks (algorithms like Decision Trees, Logistic Regression and so on). The data was analized and prepared for modelling in `Data_analysis.ipynb` notebook.\n",
    "\n",
    "Two cases were considered:\n",
    " 1. Binary classification where only positive and negative reviews were taken into account\n",
    " 2. Muliclass classification where all three kinds of reviews were taken into account (positive, neutral and negative)\n",
    " \n",
    "__Note__: Because almost 93% of the reviews are positive some imbalanced classification problem steps were undertaken. "
   ]
  },
  {
   "cell_type": "code",
   "execution_count": 2,
   "metadata": {
    "scrolled": true
   },
   "outputs": [],
   "source": [
    "import pandas as pd\n",
    "import numpy as np\n",
    "import matplotlib.pyplot as plt\n",
    "import pickle\n",
    "\n",
    "from sklearn.metrics import confusion_matrix, classification_report, roc_curve, plot_roc_curve\n",
    "from sklearn.feature_extraction.text import TfidfVectorizer\n",
    "from sklearn.base import BaseEstimator, TransformerMixin\n",
    "from sklearn.pipeline import make_pipeline, Pipeline\n",
    "from sklearn.model_selection import GridSearchCV, train_test_split\n",
    "\n",
    "from sklearn.tree import DecisionTreeClassifier\n",
    "from sklearn.svm import SVC\n",
    "from sklearn.neighbors import KNeighborsClassifier\n",
    "from sklearn.linear_model import LogisticRegression\n",
    "from xgboost.sklearn import XGBClassifier\n",
    "from imblearn.ensemble import BalancedBaggingClassifier, BalancedRandomForestClassifier, RUSBoostClassifier"
   ]
  },
  {
   "cell_type": "code",
   "execution_count": 3,
   "metadata": {
    "scrolled": true
   },
   "outputs": [],
   "source": [
    "import warnings\n",
    "warnings.simplefilter(action='ignore', category=UserWarning)"
   ]
  },
  {
   "cell_type": "code",
   "execution_count": 4,
   "metadata": {
    "scrolled": true
   },
   "outputs": [],
   "source": [
    "pd.set_option('display.max_rows', 500)"
   ]
  },
  {
   "cell_type": "markdown",
   "metadata": {},
   "source": [
    "__Loading prepared data__"
   ]
  },
  {
   "cell_type": "code",
   "execution_count": 5,
   "metadata": {
    "scrolled": true
   },
   "outputs": [],
   "source": [
    "data = pd.read_csv('Data_ML.csv', index_col='Unnamed: 0')"
   ]
  },
  {
   "cell_type": "code",
   "execution_count": 6,
   "metadata": {
    "scrolled": true
   },
   "outputs": [
    {
     "data": {
      "text/html": [
       "<div>\n",
       "<style scoped>\n",
       "    .dataframe tbody tr th:only-of-type {\n",
       "        vertical-align: middle;\n",
       "    }\n",
       "\n",
       "    .dataframe tbody tr th {\n",
       "        vertical-align: top;\n",
       "    }\n",
       "\n",
       "    .dataframe thead th {\n",
       "        text-align: right;\n",
       "    }\n",
       "</style>\n",
       "<table border=\"1\" class=\"dataframe\">\n",
       "  <thead>\n",
       "    <tr style=\"text-align: right;\">\n",
       "      <th></th>\n",
       "      <th>rating</th>\n",
       "      <th>review</th>\n",
       "    </tr>\n",
       "  </thead>\n",
       "  <tbody>\n",
       "    <tr>\n",
       "      <th>0</th>\n",
       "      <td>1</td>\n",
       "      <td>wireless gaming headset  gaming headset ticks ...</td>\n",
       "    </tr>\n",
       "    <tr>\n",
       "      <th>1</th>\n",
       "      <td>0</td>\n",
       "      <td>good big head low budget easy setup rated 6 ho...</td>\n",
       "    </tr>\n",
       "    <tr>\n",
       "      <th>2</th>\n",
       "      <td>1</td>\n",
       "      <td>mezumiwireless gaming headset originally bough...</td>\n",
       "    </tr>\n",
       "    <tr>\n",
       "      <th>3</th>\n",
       "      <td>1</td>\n",
       "      <td>hw s2 great headset 2nd mezumi headset kills f...</td>\n",
       "    </tr>\n",
       "    <tr>\n",
       "      <th>4</th>\n",
       "      <td>1</td>\n",
       "      <td>best headphones ive purchased entire life prob...</td>\n",
       "    </tr>\n",
       "  </tbody>\n",
       "</table>\n",
       "</div>"
      ],
      "text/plain": [
       "   rating                                             review\n",
       "0       1  wireless gaming headset  gaming headset ticks ...\n",
       "1       0  good big head low budget easy setup rated 6 ho...\n",
       "2       1  mezumiwireless gaming headset originally bough...\n",
       "3       1  hw s2 great headset 2nd mezumi headset kills f...\n",
       "4       1  best headphones ive purchased entire life prob..."
      ]
     },
     "execution_count": 6,
     "metadata": {},
     "output_type": "execute_result"
    }
   ],
   "source": [
    "data.head()"
   ]
  },
  {
   "cell_type": "code",
   "execution_count": 7,
   "metadata": {
    "scrolled": true
   },
   "outputs": [],
   "source": [
    "def model_summary(model, X_test, y_test):\n",
    "    \"\"\"\n",
    "    Function that prints classification report and confusion matrix for a given model\n",
    "    \"\"\"\n",
    "    \n",
    "    y_pred = model.predict(X_test)\n",
    "    print('\\nconfusion matrix\\n', confusion_matrix(y_test, y_pred))\n",
    "\n",
    "    print('\\nclassification report\\n',classification_report(y_test, y_pred))"
   ]
  },
  {
   "cell_type": "code",
   "execution_count": 8,
   "metadata": {
    "scrolled": true
   },
   "outputs": [],
   "source": [
    "#variable for loading the trained models, \n",
    "#if it is True the models are loaded from saved pickle files, otherwise the models are fitted (training may take a few days!!!)\n",
    "load = True"
   ]
  },
  {
   "cell_type": "markdown",
   "metadata": {},
   "source": [
    "# 1. Binary classification\n",
    "\n",
    "__In this section only positive and negative reviews are used for building and testing models__<br>\n",
    "\n",
    "__preparing data for binary classification__"
   ]
  },
  {
   "cell_type": "code",
   "execution_count": 9,
   "metadata": {},
   "outputs": [],
   "source": [
    "#Keeping only positive and negative reviews\n",
    "data_preprocessed_binary = data[data.rating != 0]\n",
    "\n",
    "#Words that appear in less than 50 reviews are removed\n",
    "min_df = 50\n",
    "\n",
    "X = data_preprocessed_binary.loc[:, 'review']\n",
    "y = data_preprocessed_binary.loc[:, 'rating']\n",
    "\n",
    "X_train, X_test, y_train, y_test = train_test_split(X, y, test_size=0.2, stratify=y, random_state=100)"
   ]
  },
  {
   "cell_type": "markdown",
   "metadata": {},
   "source": [
    "## 1.1 No operations regarding class imbalance\n",
    "\n",
    "### 1.1.1. Benchmark model - Logistic Regression"
   ]
  },
  {
   "cell_type": "markdown",
   "metadata": {},
   "source": [
    "__Three different f1-scoring were tesed in GridSearchCV, it turned out that it does not make any difference and two other models are not shown__"
   ]
  },
  {
   "cell_type": "code",
   "execution_count": 10,
   "metadata": {
    "scrolled": true
   },
   "outputs": [],
   "source": [
    "modelLR = Pipeline([\n",
    "    ('tfidf_vectorizer', TfidfVectorizer(min_df=min_df)),\n",
    "    (\"model\", LogisticRegression(max_iter=10_000, penalty='l2'))\n",
    "])\n",
    "\n",
    "paramsLR = { \"tfidf_vectorizer__ngram_range\": [(1, 1), (1, 2), (1, 3)],\n",
    "             \"model__C\": [0.1, 1, 10],\n",
    "             \"model__class_weight\":[{1:1, -1:1}, {1:1, -1:10}, {1:1, -1:20}]}\n",
    "\n",
    "optimizerLR = GridSearchCV(modelLR, paramsLR, cv=10, scoring='f1_weighted')\n",
    "\n",
    "#if load is True the model is loaded\n",
    "if load:\n",
    "    optimizerLR = pickle.load(open(\"models/111LogReg_benchamrk.pkl\", 'rb'))\n",
    "\n",
    "#if load is False the model is trained    \n",
    "else:\n",
    "    optimizerLR.fit(X_train, y_train)"
   ]
  },
  {
   "cell_type": "markdown",
   "metadata": {},
   "source": [
    "__Models with two other f1-scoring and ROC curves for all three LogReg models__"
   ]
  },
  {
   "cell_type": "code",
   "execution_count": 11,
   "metadata": {
    "scrolled": true
   },
   "outputs": [],
   "source": [
    "# optimizerLR2 = GridSearchCV(modelLR, paramsLR, cv=10, scoring='f1_micro')\n",
    "# optimizerLR2.fit(X_train, y_train)\n",
    "\n",
    "# optimizerLR3 = GridSearchCV(modelLR, paramsLR, cv=10, scoring='f1_macro')\n",
    "# optimizerLR3.fit(X_train, y_train)\n",
    "\n",
    "# fig, ax = plt.subplots(figsize=(20,10))\n",
    "# plot_roc_curve(optimizerLR, X_test, y_test, ax=ax)\n",
    "# plot_roc_curve(optimizerLR2, X_test, y_test, ax=ax)\n",
    "# plot_roc_curve(optimizerLR3, X_test, y_test, ax=ax)"
   ]
  },
  {
   "cell_type": "markdown",
   "metadata": {},
   "source": [
    "### 1.1.2. XGBoost"
   ]
  },
  {
   "cell_type": "code",
   "execution_count": 12,
   "metadata": {
    "scrolled": true
   },
   "outputs": [],
   "source": [
    "modelXGB= Pipeline([\n",
    "    ('tfidf_vectorizer', TfidfVectorizer(min_df=min_df, ngram_range=(1,2))),\n",
    "    (\"model\", XGBClassifier(n_estimators=500, max_depth=30, objective='binary:logistic'))\n",
    "])\n",
    "\n",
    "paramsXGB = {\n",
    "             \"model__reg_lambda\":[0.1, 1, 10],\n",
    "             \"model__learning_rate\":[0.1, 0.5, 0.9]\n",
    "            }\n",
    "\n",
    "optimizerXGB = GridSearchCV(modelXGB, paramsXGB, cv=5, scoring='f1_weighted')\n",
    "\n",
    "if load:\n",
    "    optimizerXGB = pickle.load(open(\"models/112XGB.pkl\", 'rb'))\n",
    "else:\n",
    "    optimizerXGB.fit(X_train, y_train)"
   ]
  },
  {
   "cell_type": "markdown",
   "metadata": {},
   "source": [
    "### 1.1.3. SVM\n",
    "\n",
    "Note: This model had to be limited, the author tried more variables in GridSearch parameters but the model was being fitted for over 7 days without success"
   ]
  },
  {
   "cell_type": "code",
   "execution_count": 13,
   "metadata": {
    "scrolled": true
   },
   "outputs": [],
   "source": [
    "modelSVM = Pipeline([\n",
    "    ('tfidf_vectorizer', TfidfVectorizer(min_df=min_df, ngram_range=(1,2))),\n",
    "    (\"model\", SVC(probability=True, kernel='rbf'))\n",
    "])\n",
    "\n",
    "paramsSVM = {\"model__C\":[0.1, 1, 10]}\n",
    "\n",
    "optimizerSVM = GridSearchCV(modelSVM, paramsSVM, cv=5, scoring='f1_weighted')\n",
    "\n",
    "if load:\n",
    "    optimizerSVM = pickle.load(open(\"models/113SVM.pkl\", 'rb'))\n",
    "else:\n",
    "    optimizerSVM.fit(X_train, y_train)"
   ]
  },
  {
   "cell_type": "markdown",
   "metadata": {},
   "source": [
    "## 1.2. Undersampling\n",
    "__The training set is undersampled (number of positive ratings is downgraded in order to obtain balanced labels)__"
   ]
  },
  {
   "cell_type": "code",
   "execution_count": 14,
   "metadata": {
    "scrolled": true
   },
   "outputs": [],
   "source": [
    "X = data_preprocessed_binary.loc[:, 'review']\n",
    "y = data_preprocessed_binary.loc[:, 'rating']\n",
    "\n",
    "X_train, X_test, y_train, y_test = train_test_split(X, y, test_size=0.2, stratify=y)"
   ]
  },
  {
   "cell_type": "code",
   "execution_count": 15,
   "metadata": {
    "scrolled": true
   },
   "outputs": [],
   "source": [
    "data_train = pd.concat([X_train, y_train], axis=1)"
   ]
  },
  {
   "cell_type": "code",
   "execution_count": 16,
   "metadata": {
    "scrolled": true
   },
   "outputs": [],
   "source": [
    "#negative reviews from training set\n",
    "data_minor = data_train[data_train['rating'] == -1]\n",
    "\n",
    "#number of negative reviews\n",
    "minor_size = data_minor.shape[0]\n",
    "\n",
    "#downsampling the positive ratings\n",
    "data_major = data_train[data_train['rating'] == 1].sample(n=minor_size)\n",
    "\n",
    "data_train2 = pd.concat([data_minor, data_major])\n",
    "X_train = data_train2.loc[:, 'review']\n",
    "y_train = data_train2.loc[:, 'rating']"
   ]
  },
  {
   "cell_type": "code",
   "execution_count": 17,
   "metadata": {
    "scrolled": true
   },
   "outputs": [
    {
     "name": "stdout",
     "output_type": "stream",
     "text": [
      "bad and good reviews after undersampling - percentage and quantity shares\n",
      "\n",
      " 1    0.5\n",
      "-1    0.5\n",
      "Name: rating, dtype: float64\n",
      " 1    1621\n",
      "-1    1621\n",
      "Name: rating, dtype: int64\n"
     ]
    }
   ],
   "source": [
    "print('bad and good reviews after undersampling - percentage and quantity shares\\n')\n",
    "print(data_train2['rating'].value_counts(normalize=True))\n",
    "print(data_train2['rating'].value_counts(normalize=False))"
   ]
  },
  {
   "cell_type": "markdown",
   "metadata": {},
   "source": [
    "### 1.2.1. XGBoost"
   ]
  },
  {
   "cell_type": "code",
   "execution_count": 18,
   "metadata": {
    "scrolled": true
   },
   "outputs": [],
   "source": [
    "modelXGB_US = Pipeline([\n",
    "    ('tfidf_vectorizer', TfidfVectorizer(min_df=min_df, ngram_range=(1,2))),\n",
    "    (\"model\", XGBClassifier(objective='binary:logistic'))\n",
    "])\n",
    "\n",
    "paramsXGB_US = {\"model__n_estimators\":[100, 300, 500],\n",
    "                \"model__max_depth\":[10, 30],\n",
    "                \"model__reg_lambda\":[0.1, 1, 10],\n",
    "                \"model__learning_rate\":[0.01, 0.1, 0.5, 0.9],\n",
    "               }\n",
    "\n",
    "optimizerXGB_US = GridSearchCV(modelXGB_US, paramsXGB_US, cv=5, scoring='f1_macro')\n",
    "\n",
    "if load:\n",
    "    optimizerXGB_US = pickle.load(open(\"models/121XBG.pkl\", 'rb'))\n",
    "else:\n",
    "    optimizerXGB_US.fit(X_train, y_train)"
   ]
  },
  {
   "cell_type": "markdown",
   "metadata": {},
   "source": [
    "### 1.2.2. SVM"
   ]
  },
  {
   "cell_type": "code",
   "execution_count": 19,
   "metadata": {
    "scrolled": true
   },
   "outputs": [],
   "source": [
    "modelSVM_US = Pipeline([\n",
    "    ('tfidf_vectorizer', TfidfVectorizer(min_df=min_df)),\n",
    "    (\"model\", SVC())\n",
    "])\n",
    "\n",
    "paramsSVM_US = {\"tfidf_vectorizer__ngram_range\": [(1, 1), (1, 2), (1, 3)],\n",
    "             \"model__C\":[0.1, 1, 10],\n",
    "             \"model__kernel\":['rbf','poly','linear'],\n",
    "             \"model__degree\":[1,2,3,4,5,6],\n",
    "            }\n",
    "\n",
    "optimizerSVM_US = GridSearchCV(modelSVM_US, paramsSVM_US, cv=5, scoring='f1_macro')\n",
    "\n",
    "if load:\n",
    "    optimizerSVM_US = pickle.load(open(\"models/122SVM.pkl\", 'rb'))\n",
    "else:\n",
    "    optimizerSVM_US.fit(X_train, y_train)"
   ]
  },
  {
   "cell_type": "markdown",
   "metadata": {},
   "source": [
    "### 1.2.3. KNN"
   ]
  },
  {
   "cell_type": "code",
   "execution_count": 20,
   "metadata": {
    "scrolled": true
   },
   "outputs": [],
   "source": [
    "modelKNN_US = Pipeline([\n",
    "    ('tfidf_vectorizer', TfidfVectorizer(min_df=min_df)),\n",
    "    (\"model\", KNeighborsClassifier())\n",
    "])\n",
    "\n",
    "paramsKNN_US = {\"tfidf_vectorizer__ngram_range\": [(1, 1), (1, 2), (1, 3)],\n",
    "             \"model__n_neighbors\":[3, 5, 10, 15]\n",
    "            }\n",
    "\n",
    "optimizerKNN_US = GridSearchCV(modelKNN_US, paramsKNN_US, cv=10, scoring='f1_macro')\n",
    "if load:\n",
    "    optimizerKNN_US = pickle.load(open(\"models/123KNN.pkl\", 'rb'))\n",
    "else:\n",
    "    optimizerKNN_US.fit(X_train, y_train)"
   ]
  },
  {
   "cell_type": "markdown",
   "metadata": {},
   "source": [
    "## 1.3. Imblearn library\n",
    "__Library dedicated for imbalanced problems__"
   ]
  },
  {
   "cell_type": "code",
   "execution_count": 21,
   "metadata": {
    "scrolled": true
   },
   "outputs": [],
   "source": [
    "X = data_preprocessed_binary.loc[:, 'review']\n",
    "y = data_preprocessed_binary.loc[:, 'rating']\n",
    "\n",
    "X_train, X_test, y_train, y_test = train_test_split(X, y, test_size=0.2, stratify=y)"
   ]
  },
  {
   "cell_type": "markdown",
   "metadata": {},
   "source": [
    "### 1.3.1. Balanced Random Forest"
   ]
  },
  {
   "cell_type": "code",
   "execution_count": 22,
   "metadata": {
    "scrolled": true
   },
   "outputs": [],
   "source": [
    "modelBRF = Pipeline([\n",
    "    ('tfidf_vectorizer', TfidfVectorizer(min_df=min_df, ngram_range=(1,2))),\n",
    "    (\"model\", BalancedRandomForestClassifier(replacement=True))\n",
    "])\n",
    "\n",
    "paramsBRF = {\"model__max_depth\": [10, 25],\n",
    "             \"model__n_estimators\": [100, 200, 500],\n",
    "             \"model__class_weight\": [{1:1, -1:1}, {1:1, -1:10}, {1:1, -1:20}]}\n",
    "\n",
    "optimizerBRF = GridSearchCV(modelBRF, paramsBRF, cv=5, scoring='f1_weighted')\n",
    "if load:\n",
    "    optimizerBRF = pickle.load(open(\"models/131BRF.pkl\", 'rb'))\n",
    "else:\n",
    "    optimizerBRF.fit(X_train, y_train)"
   ]
  },
  {
   "cell_type": "markdown",
   "metadata": {},
   "source": [
    "### 1.3.2. Balanced Boosting"
   ]
  },
  {
   "cell_type": "code",
   "execution_count": 23,
   "metadata": {
    "scrolled": true
   },
   "outputs": [],
   "source": [
    "modelBB = Pipeline([\n",
    "    ('tfidf_vectorizer', TfidfVectorizer(min_df=min_df, ngram_range=(1,2))),\n",
    "    (\"model\", RUSBoostClassifier(replacement=True))\n",
    "])\n",
    "\n",
    "\n",
    "paramsBB = {\"model__base_estimator\": [LogisticRegression(max_iter=10_000, penalty='none'), \n",
    "                                      LogisticRegression(max_iter=10_000, penalty='l2', C=10, class_weight={1:1, -1:10}),\n",
    "                                      DecisionTreeClassifier(max_depth=15),\n",
    "                                      KNeighborsClassifier(n_neighbors=5)],\n",
    "            \"model__learning_rate\": [0.01, 0.1, 1],\n",
    "            \"model__n_estimators\": [100, 200, 500]}\n",
    "\n",
    "\n",
    "optimizerBB = GridSearchCV(modelBB, paramsBB, cv=10, scoring='f1_weighted')\n",
    "\n",
    "if load:\n",
    "    optimizerBB = pickle.load(open(\"models/132BB.pkl\", 'rb'))\n",
    "else:\n",
    "    optimizerBB.fit(X_train, y_train)"
   ]
  },
  {
   "cell_type": "markdown",
   "metadata": {},
   "source": [
    "## Binary models evaluation\n",
    "\n",
    "__Each model was evaluated by ROC, then for the best model probability threshold was adjusted__"
   ]
  },
  {
   "cell_type": "code",
   "execution_count": 24,
   "metadata": {
    "scrolled": false
   },
   "outputs": [
    {
     "data": {
      "image/png": "[encoded data removed]",
      "text/plain": [
       "<Figure size 1440x720 with 1 Axes>"
      ]
     },
     "metadata": {
      "needs_background": "light"
     },
     "output_type": "display_data"
    }
   ],
   "source": [
    "fig, ax = plt.subplots(figsize=(20,10))\n",
    "plot_roc_curve(optimizerLR, X_test, y_test, ax=ax,color='black')\n",
    "plot_roc_curve(optimizerXGB, X_test, y_test, ax=ax, color='red')\n",
    "plot_roc_curve(optimizerSVM, X_test, y_test, ax=ax, color='green', linestyle='--')\n",
    "plot_roc_curve(optimizerXGB_US, X_test, y_test, ax=ax)\n",
    "plot_roc_curve(optimizerSVM_US, X_test, y_test, ax=ax)\n",
    "plot_roc_curve(optimizerKNN_US, X_test, y_test, ax=ax)\n",
    "plot_roc_curve(optimizerBB, X_test, y_test, ax=ax)\n",
    "plot_roc_curve(optimizerBRF, X_test, y_test, ax=ax)\n",
    "\n",
    "ax.legend(['LogReg Benchmark', 'XGboost', 'SVM', 'XGBoost_undersampled', 'SVM_undersampled','KNN_undersampled','BalancedBoosting', 'BalancedRandomForest'], fontsize=20)\n",
    "ax.grid(b=True)\n",
    "plt.show()"
   ]
  },
  {
   "cell_type": "markdown",
   "metadata": {},
   "source": [
    "__Conclusion: The best model is SVM without data balancing__"
   ]
  },
  {
   "cell_type": "code",
   "execution_count": 25,
   "metadata": {
    "scrolled": true
   },
   "outputs": [],
   "source": [
    "final_model_binary = optimizerSVM"
   ]
  },
  {
   "cell_type": "markdown",
   "metadata": {},
   "source": [
    "__Adjusting probability threshold__ <br>"
   ]
  },
  {
   "cell_type": "code",
   "execution_count": 26,
   "metadata": {
    "scrolled": true
   },
   "outputs": [],
   "source": [
    "fpr, tpr, thresholds = roc_curve(y_test, final_model_binary.predict_proba(X_test)[:, 1])"
   ]
  },
  {
   "cell_type": "code",
   "execution_count": 35,
   "metadata": {
    "scrolled": false
   },
   "outputs": [
    {
     "data": {
      "image/png": "[encoded data removed]",
      "text/plain": [
       "<Figure size 1440x720 with 1 Axes>"
      ]
     },
     "metadata": {
      "needs_background": "light"
     },
     "output_type": "display_data"
    }
   ],
   "source": [
    "s, e = 150, 190\n",
    "fig, ax = plt.subplots(figsize=(20,10))\n",
    "ax.plot(fpr, tpr, color='black', lw=3)\n",
    "#red curve for determining threshold\n",
    "ax.plot(fpr[s:e], tpr[s:e], color='red', lw=3)\n",
    "ax.grid(which='both')\n",
    "plt.yticks(ticks=np.arange(0,1.1,0.1), labels=[0,0.1,0.2,0.3,0.4,0.5,0.6,0.7,0.8,0.9,1])\n",
    "plt.xticks(ticks=np.arange(0,1.1,0.1), labels=[0,0.1,0.2,0.3,0.4,0.5,0.6,0.7,0.8,0.9,1])\n",
    "plt.show()"
   ]
  },
  {
   "cell_type": "code",
   "execution_count": 42,
   "metadata": {
    "scrolled": true
   },
   "outputs": [],
   "source": [
    "# printing values calculated in roc_cuvre in order to select threshold\n",
    "# np.hstack([tpr.reshape(-1, 1),fpr.reshape(-1, 1), thresholds.reshape(-1, 1)])[s:e]"
   ]
  },
  {
   "cell_type": "code",
   "execution_count": 38,
   "metadata": {
    "scrolled": true
   },
   "outputs": [
    {
     "name": "stdout",
     "output_type": "stream",
     "text": [
      "[[ 386   19]\n",
      " [  41 8416]]\n",
      "              precision    recall  f1-score   support\n",
      "\n",
      "          -1       0.90      0.95      0.93       405\n",
      "           1       1.00      1.00      1.00      8457\n",
      "\n",
      "    accuracy                           0.99      8862\n",
      "   macro avg       0.95      0.97      0.96      8862\n",
      "weighted avg       0.99      0.99      0.99      8862\n",
      "\n",
      "number of reviews that are positive and are predicted as positive: 8416\n",
      "number of reviews that are negative and are predicted as negative: 386\n",
      "number of reviews that are negative and are predicted as positive: 19\n",
      "number of reviews that are positive and are predicted as negative: 41\n"
     ]
    }
   ],
   "source": [
    "threshold = 0.8\n",
    "\n",
    "y_pred_proba_pos = final_model_binary.predict_proba(X_test)[:,1]\n",
    "y_pred = np.where(y_pred_proba_pos > threshold, 1, -1)\n",
    "print(confusion_matrix(y_test, y_pred))\n",
    "print(classification_report(y_test, y_pred))\n",
    "cm = confusion_matrix(y_test, y_pred)\n",
    "\n",
    "print(f'number of reviews that are positive and are predicted as positive: {cm[1][1]}')\n",
    "print(f'number of reviews that are negative and are predicted as negative: {cm[0][0]}')\n",
    "print(f'number of reviews that are negative and are predicted as positive: {cm[0][1]}')\n",
    "print(f'number of reviews that are positive and are predicted as negative: {cm[1][0]}')"
   ]
  },
  {
   "cell_type": "markdown",
   "metadata": {},
   "source": [
    "# 2. Multilabel classification\n",
    "__The reviews are divided into three groups: positive, negative and neutral__"
   ]
  },
  {
   "cell_type": "code",
   "execution_count": 68,
   "metadata": {
    "scrolled": true
   },
   "outputs": [],
   "source": [
    "def model_summary(model, X_test, y_test):\n",
    "    \"\"\"\n",
    "    Function that prints classification report and confusion matrix for a given model\n",
    "    \"\"\"\n",
    "    \n",
    "    y_pred = model.predict(X_test)\n",
    "    print('\\nconfusion matrix\\n', confusion_matrix(y_test, y_pred))\n",
    "\n",
    "    print('\\nclassification report\\n',classification_report(y_test, y_pred))"
   ]
  },
  {
   "cell_type": "code",
   "execution_count": 69,
   "metadata": {
    "scrolled": true
   },
   "outputs": [],
   "source": [
    "X = data.loc[:, 'review']\n",
    "y = data.loc[:, 'rating']\n",
    "\n",
    "X_train, X_test, y_train, y_test = train_test_split(X, y, test_size=0.2, stratify=y)"
   ]
  },
  {
   "cell_type": "markdown",
   "metadata": {},
   "source": [
    "## 2.1. No operations regarding class imbalance\n",
    "\n",
    "### 2.1.1. Benchmark model - Logistic Regression "
   ]
  },
  {
   "cell_type": "code",
   "execution_count": 70,
   "metadata": {
    "scrolled": true
   },
   "outputs": [],
   "source": [
    "modelLR_MC = Pipeline([\n",
    "    ('tfidf_vectorizer', TfidfVectorizer(min_df=min_df)),\n",
    "    (\"model\", LogisticRegression(max_iter=10_000, penalty='l2'))\n",
    "])\n",
    "\n",
    "paramsLR_MC = { \"tfidf_vectorizer__ngram_range\": [(1, 1), (1, 2), (1, 3)],\n",
    "                \"model__C\": [0.1, 1, 10],\n",
    "                \"model__class_weight\":[{-1:1, 0:1, 1:1}, {-1:10, 0:10, 1:1}]}\n",
    "\n",
    "optimizerLR_MC = GridSearchCV(modelLR_MC, paramsLR_MC, cv=10, scoring='f1_weighted')\n",
    "\n",
    "optimizerLR_MC2 = GridSearchCV(modelLR_MC, paramsLR_MC, cv=10, scoring='f1_micro')\n",
    "\n",
    "optimizerLR_MC3 = GridSearchCV(modelLR_MC, paramsLR_MC, cv=10, scoring='f1_macro')\n",
    "\n",
    "if load:\n",
    "    optimizerLR_MC = pickle.load(open(\"models/211LogReg_benchamrk_MC1.pkl\", 'rb'))\n",
    "    optimizerLR_MC2 = pickle.load(open(\"models/211LogReg_benchamrk_MC2.pkl\", 'rb'))\n",
    "    optimizerLR_MC3 = pickle.load(open(\"models/211LogReg_benchamrk_MC3.pkl\", 'rb'))\n",
    "else:\n",
    "    optimizerLR_MC.fit(X_train, y_train)\n",
    "    optimizerLR_MC2.fit(X_train, y_train)\n",
    "    optimizerLR_MC3.fit(X_train, y_train)"
   ]
  },
  {
   "cell_type": "markdown",
   "metadata": {},
   "source": [
    "### 2.1.2. XGBoost"
   ]
  },
  {
   "cell_type": "code",
   "execution_count": 71,
   "metadata": {
    "scrolled": true
   },
   "outputs": [],
   "source": [
    "modelXGB_MC = Pipeline([\n",
    "        ('tfidf_vectorizer', TfidfVectorizer(min_df=min_df, ngram_range=(1,2))),\n",
    "        (\"model\", XGBClassifier(objective='multi:softmax', max_depth=30, n_estimators=500, num_class=3, n_jobs=-1))\n",
    "])\n",
    "\n",
    "paramsXGB_MC = {\n",
    "                \"model__reg_lambda\":[0.1, 1, 10],\n",
    "                \"model__learning_rate\":[0.01, 0.1, 0.5, 0.9],\n",
    "               }\n",
    "\n",
    "optimizerXGB_MC = GridSearchCV(modelXGB_MC, paramsXGB_MC, cv=5, scoring='f1_weighted')\n",
    "if load:\n",
    "    optimizerXGB_MC = pickle.load(open(\"models/212XGB.pkl\", 'rb'))\n",
    "else:\n",
    "    optimizerXGB_MC.fit(X_train, y_train)"
   ]
  },
  {
   "cell_type": "markdown",
   "metadata": {},
   "source": [
    "### 2.1.3. SVM"
   ]
  },
  {
   "cell_type": "code",
   "execution_count": 72,
   "metadata": {},
   "outputs": [],
   "source": [
    "modelSVM_MC = Pipeline([\n",
    "    ('tfidf_vectorizer', TfidfVectorizer(min_df=min_df, ngram_range=(1,2))),\n",
    "    (\"model\", SVC(probability=True, kernel='rbf'))\n",
    "])\n",
    "\n",
    "paramsSVM_MC = {\"model__C\":[0.1, 1, 10]}\n",
    "\n",
    "optimizerSVM_MC = GridSearchCV(modelSVM_MC, paramsSVM_MC, cv=5, scoring='f1_weighted')\n",
    "\n",
    "if load:\n",
    "    optimizerSVM_MC = pickle.load(open(\"models/213SVM.pkl\", 'rb'))\n",
    "else:\n",
    "    optimizerSVM_MC.fit(X_train, y_train)"
   ]
  },
  {
   "cell_type": "markdown",
   "metadata": {},
   "source": [
    "## 2.2. Undersampling"
   ]
  },
  {
   "cell_type": "code",
   "execution_count": 73,
   "metadata": {
    "scrolled": true
   },
   "outputs": [],
   "source": [
    "data_train = pd.concat([X_train, y_train], axis=1)\n",
    "\n",
    "data_minor = data_train[data_train['rating'] == -1]\n",
    "data_neutral = data_train[data_train['rating'] == 0]\n",
    "\n",
    "minor_size = data_minor.shape[0]\n",
    "data_major = data_train[data_train['rating'] == 1].sample(n=minor_size)\n",
    "\n",
    "data_train2 = pd.concat([data_minor, data_neutral, data_major])\n",
    "X_train_us = data_train2.loc[:, 'review']\n",
    "y_train_us = data_train2.loc[:, 'rating']"
   ]
  },
  {
   "cell_type": "code",
   "execution_count": 74,
   "metadata": {
    "scrolled": true
   },
   "outputs": [
    {
     "data": {
      "text/plain": [
       "-1    1621\n",
       " 1    1621\n",
       " 0    1153\n",
       "Name: rating, dtype: int64"
      ]
     },
     "execution_count": 74,
     "metadata": {},
     "output_type": "execute_result"
    }
   ],
   "source": [
    "y_train_us.value_counts()"
   ]
  },
  {
   "cell_type": "markdown",
   "metadata": {},
   "source": [
    "### 2.2.1. XGBoost"
   ]
  },
  {
   "cell_type": "code",
   "execution_count": 75,
   "metadata": {
    "scrolled": true
   },
   "outputs": [],
   "source": [
    "modelXGB_MC_US = Pipeline([\n",
    "    ('tfidf_vectorizer', TfidfVectorizer(min_df=min_df, ngram_range=(1,2))),\n",
    "    (\"model\", XGBClassifier(objective='multi:softmax', max_depth=30, num_class=3, n_jobs=-1))\n",
    "])\n",
    "\n",
    "paramsXGB_MC_US = {\n",
    "                   \"model__n_estimators\":[100, 300, 500],\n",
    "                   \"model__reg_lambda\":[0.1, 1, 10],\n",
    "                   \"model__learning_rate\":[0.01, 0.1, 0.5, 0.9],\n",
    "                  }\n",
    "\n",
    "optimizerXGB_MC_US = GridSearchCV(modelXGB_MC_US, paramsXGB_MC_US, cv=10, scoring='f1_macro')\n",
    "if load:\n",
    "    optimizerXGB_MC_US = pickle.load(open(\"models/221XGB.pkl\", 'rb'))\n",
    "else:\n",
    "    optimizerXGB_MC_US.fit(X_train, y_train)"
   ]
  },
  {
   "cell_type": "markdown",
   "metadata": {},
   "source": [
    "### 2.2.2. SVM"
   ]
  },
  {
   "cell_type": "code",
   "execution_count": 76,
   "metadata": {
    "scrolled": true
   },
   "outputs": [],
   "source": [
    "modelSVM_MC_US = Pipeline([\n",
    "    ('tfidf_vectorizer', TfidfVectorizer(min_df=2, max_df=0.1)),\n",
    "    (\"model\", SVC())\n",
    "])\n",
    "\n",
    "paramsSVM_MC_US = {\"tfidf_vectorizer__ngram_range\": [(1, 1), (1, 2), (1, 3)],\n",
    "                   \"model__C\":[0.1, 1, 10],\n",
    "                   \"model__kernel\":['rbf','poly','linear'],\n",
    "                   \"model__degree\":[1,2,3,4,5,6,7],\n",
    "                  }\n",
    "\n",
    "optimizerSVM_MC_US = GridSearchCV(modelSVM_MC_US, paramsSVM_MC_US, cv=10, scoring='f1_weighted')\n",
    "if load:\n",
    "    optimizerSVM_MC_US = pickle.load(open(\"models/222SVM.pkl\", 'rb'))\n",
    "else:\n",
    "    optimizerSVM_MC_US.fit(X_train, y_train)"
   ]
  },
  {
   "cell_type": "markdown",
   "metadata": {},
   "source": [
    "### 2.2.3. KNN"
   ]
  },
  {
   "cell_type": "code",
   "execution_count": 77,
   "metadata": {
    "scrolled": true
   },
   "outputs": [],
   "source": [
    "modelKNN_MC_US = Pipeline([\n",
    "    ('tfidf_vectorizer', TfidfVectorizer(min_df=2, max_df=0.1)),\n",
    "    (\"model\", KNeighborsClassifier())\n",
    "])\n",
    "\n",
    "paramsKNN_MC_US = {\"tfidf_vectorizer__ngram_range\": [(1, 1), (1, 2), (1, 3)],\n",
    "                   \"model__n_neighbors\":[3, 5, 10, 15]\n",
    "                  }\n",
    "\n",
    "optimizerKNN_MC_US = GridSearchCV(modelKNN_MC_US, paramsKNN_MC_US, cv=10, scoring='f1_weighted')\n",
    "if load:\n",
    "    optimizerKNN_MC_US = pickle.load(open(\"models/223KNN.pkl\", 'rb'))\n",
    "else:\n",
    "    optimizerKNN_MC_US.fit(X_train, y_train)"
   ]
  },
  {
   "cell_type": "markdown",
   "metadata": {},
   "source": [
    "## 2.3. Imblearn library\n",
    "__library dedicated for imbalanced problems__\n",
    "\n",
    "### 2.3.1. Balanced Random Forest"
   ]
  },
  {
   "cell_type": "code",
   "execution_count": 78,
   "metadata": {
    "scrolled": true
   },
   "outputs": [],
   "source": [
    "modelBRF_MC = Pipeline([\n",
    "    ('tfidf_vectorizer', TfidfVectorizer(min_df=min_df, ngram_range=(1, 2))),\n",
    "    (\"model\", BalancedRandomForestClassifier(replacement=True))\n",
    "])\n",
    "\n",
    "paramsBRF_MC = {\"model__max_depth\": [10, 25],\n",
    "                \"model__n_estimators\": [100, 200, 500],\n",
    "                \"model__class_weight\": [{1:1, -1:1, 0:1}, {1:1, -1:10, 0:10}, {1:1, -1:20, 0:20}]}\n",
    "\n",
    "optimizerBRF_MC = GridSearchCV(modelBRF_MC, paramsBRF_MC, cv=5, scoring='f1_weighted')\n",
    "if load:\n",
    "    optimizerBRF_MC = pickle.load(open(\"models/231BRF.pkl\", 'rb'))\n",
    "else:\n",
    "    optimizerBRF_MC.fit(X_train, y_train)"
   ]
  },
  {
   "cell_type": "markdown",
   "metadata": {},
   "source": [
    "### 2.3.2. Balanced Boosting"
   ]
  },
  {
   "cell_type": "code",
   "execution_count": 79,
   "metadata": {
    "scrolled": true
   },
   "outputs": [],
   "source": [
    "modelBB_MC = Pipeline([\n",
    "    ('tfidf_vectorizer', TfidfVectorizer(min_df=min_df, ngram_range=(1,2))),\n",
    "    (\"model\", RUSBoostClassifier(replacement=True))\n",
    "])\n",
    "\n",
    "\n",
    "paramsBB_MC = {\"model__base_estimator\": [LogisticRegression(max_iter=10_000, penalty='none'), \n",
    "                                      LogisticRegression(max_iter=10_000, penalty='l2', C=10, class_weight={1:1, -1:10}),\n",
    "                                      DecisionTreeClassifier(max_depth=15),\n",
    "                                      KNeighborsClassifier(n_neighbors=5)],\n",
    "            \"model__learning_rate\": [0.01, 0.1, 1],\n",
    "            \"model__n_estimators\": [100, 200, 500]}\n",
    "\n",
    "\n",
    "\n",
    "if load:\n",
    "    optimizerBB_MC = pickle.load(open(\"models/232BB.pkl\", 'rb'))\n",
    "else:\n",
    "    optimizerBB_MC.fit(X_train, y_train)"
   ]
  },
  {
   "cell_type": "markdown",
   "metadata": {},
   "source": [
    "## Multiclass models evaluation\n",
    "\n",
    "__There is no ROC for multiclass problem, the best model was selected by confusion matrix and classification report - precision, recall and f1-score for minor classes__"
   ]
  },
  {
   "cell_type": "code",
   "execution_count": 80,
   "metadata": {
    "scrolled": false
   },
   "outputs": [
    {
     "name": "stdout",
     "output_type": "stream",
     "text": [
      "model LR_MC\n",
      "\n",
      "confusion matrix\n",
      " [[ 300   11   94]\n",
      " [  31   83  175]\n",
      " [  34   34 8389]]\n",
      "\n",
      "classification report\n",
      "               precision    recall  f1-score   support\n",
      "\n",
      "          -1       0.82      0.74      0.78       405\n",
      "           0       0.65      0.29      0.40       289\n",
      "           1       0.97      0.99      0.98      8457\n",
      "\n",
      "    accuracy                           0.96      9151\n",
      "   macro avg       0.81      0.67      0.72      9151\n",
      "weighted avg       0.95      0.96      0.95      9151\n",
      "\n",
      "\n",
      "model LR_MC2\n",
      "\n",
      "confusion matrix\n",
      " [[ 232    3  170]\n",
      " [  34   24  231]\n",
      " [  17   11 8429]]\n",
      "\n",
      "classification report\n",
      "               precision    recall  f1-score   support\n",
      "\n",
      "          -1       0.82      0.57      0.67       405\n",
      "           0       0.63      0.08      0.15       289\n",
      "           1       0.95      1.00      0.98      8457\n",
      "\n",
      "    accuracy                           0.95      9151\n",
      "   macro avg       0.80      0.55      0.60      9151\n",
      "weighted avg       0.94      0.95      0.94      9151\n",
      "\n",
      "\n",
      "model LR_MC3\n",
      "\n",
      "confusion matrix\n",
      " [[ 333   20   52]\n",
      " [  63  144   82]\n",
      " [ 184  250 8023]]\n",
      "\n",
      "classification report\n",
      "               precision    recall  f1-score   support\n",
      "\n",
      "          -1       0.57      0.82      0.68       405\n",
      "           0       0.35      0.50      0.41       289\n",
      "           1       0.98      0.95      0.97      8457\n",
      "\n",
      "    accuracy                           0.93      9151\n",
      "   macro avg       0.64      0.76      0.68      9151\n",
      "weighted avg       0.95      0.93      0.94      9151\n",
      "\n",
      "\n",
      "model XGB_MC\n",
      "\n",
      "confusion matrix\n",
      " [[ 357    1   47]\n",
      " [   9  229   51]\n",
      " [  11    2 8444]]\n",
      "\n",
      "classification report\n",
      "               precision    recall  f1-score   support\n",
      "\n",
      "          -1       0.95      0.88      0.91       405\n",
      "           0       0.99      0.79      0.88       289\n",
      "           1       0.99      1.00      0.99      8457\n",
      "\n",
      "    accuracy                           0.99      9151\n",
      "   macro avg       0.97      0.89      0.93      9151\n",
      "weighted avg       0.99      0.99      0.99      9151\n",
      "\n",
      "\n",
      "model SVM_MC\n",
      "\n",
      "confusion matrix\n",
      " [[ 369    2   34]\n",
      " [  11  248   30]\n",
      " [  10    5 8442]]\n",
      "\n",
      "classification report\n",
      "               precision    recall  f1-score   support\n",
      "\n",
      "          -1       0.95      0.91      0.93       405\n",
      "           0       0.97      0.86      0.91       289\n",
      "           1       0.99      1.00      1.00      8457\n",
      "\n",
      "    accuracy                           0.99      9151\n",
      "   macro avg       0.97      0.92      0.95      9151\n",
      "weighted avg       0.99      0.99      0.99      9151\n",
      "\n",
      "\n",
      "model XGB_undersampled\n",
      "\n",
      "confusion matrix\n",
      " [[ 381   15    9]\n",
      " [  29  250   10]\n",
      " [ 650  977 6830]]\n",
      "\n",
      "classification report\n",
      "               precision    recall  f1-score   support\n",
      "\n",
      "          -1       0.36      0.94      0.52       405\n",
      "           0       0.20      0.87      0.33       289\n",
      "           1       1.00      0.81      0.89      8457\n",
      "\n",
      "    accuracy                           0.82      9151\n",
      "   macro avg       0.52      0.87      0.58      9151\n",
      "weighted avg       0.94      0.82      0.86      9151\n",
      "\n",
      "\n",
      "model SVM_undersampled\n",
      "\n",
      "confusion matrix\n",
      " [[ 382   17    6]\n",
      " [  19  255   15]\n",
      " [ 557  884 7016]]\n",
      "\n",
      "classification report\n",
      "               precision    recall  f1-score   support\n",
      "\n",
      "          -1       0.40      0.94      0.56       405\n",
      "           0       0.22      0.88      0.35       289\n",
      "           1       1.00      0.83      0.91      8457\n",
      "\n",
      "    accuracy                           0.84      9151\n",
      "   macro avg       0.54      0.89      0.61      9151\n",
      "weighted avg       0.95      0.84      0.87      9151\n",
      "\n",
      "\n",
      "model BRF\n",
      "\n",
      "confusion matrix\n",
      " [[ 294   81   30]\n",
      " [  52  196   41]\n",
      " [ 483 1543 6431]]\n",
      "\n",
      "classification report\n",
      "               precision    recall  f1-score   support\n",
      "\n",
      "          -1       0.35      0.73      0.48       405\n",
      "           0       0.11      0.68      0.19       289\n",
      "           1       0.99      0.76      0.86      8457\n",
      "\n",
      "    accuracy                           0.76      9151\n",
      "   macro avg       0.48      0.72      0.51      9151\n",
      "weighted avg       0.93      0.76      0.82      9151\n",
      "\n",
      "\n",
      "model BB\n",
      "\n",
      "confusion matrix\n",
      " [[ 348    2   55]\n",
      " [  10  218   61]\n",
      " [  81   83 8293]]\n",
      "\n",
      "classification report\n",
      "               precision    recall  f1-score   support\n",
      "\n",
      "          -1       0.79      0.86      0.82       405\n",
      "           0       0.72      0.75      0.74       289\n",
      "           1       0.99      0.98      0.98      8457\n",
      "\n",
      "    accuracy                           0.97      9151\n",
      "   macro avg       0.83      0.86      0.85      9151\n",
      "weighted avg       0.97      0.97      0.97      9151\n",
      "\n",
      "\n"
     ]
    }
   ],
   "source": [
    "models = [(optimizerLR_MC, 'LR_MC'),\n",
    "          (optimizerLR_MC2, 'LR_MC2'),\n",
    "          (optimizerLR_MC3, 'LR_MC3'),\n",
    "          (optimizerXGB_MC, 'XGB_MC'),\n",
    "          (optimizerSVM_MC, 'SVM_MC'),\n",
    "          (optimizerXGB_MC_US, 'XGB_undersampled'),\n",
    "          (optimizerSVM_MC_US, 'SVM_undersampled'),\n",
    "          (optimizerBRF_MC, 'BRF'),\n",
    "          (optimizerBB_MC, 'BB')]\n",
    "\n",
    "for m in models:\n",
    "    print(f'model {m[1]}')\n",
    "    model_summary(m[0], X_test, y_test)\n",
    "    print()"
   ]
  },
  {
   "cell_type": "markdown",
   "metadata": {},
   "source": [
    "__Final summary can be found in `Final_model_summary.ipynb` notebook__"
   ]
  },
  {
   "cell_type": "code",
   "execution_count": null,
   "metadata": {
    "scrolled": true
   },
   "outputs": [],
   "source": [
    "# if not load:\n",
    "\n",
    "#     with open('111LogReg_benchamrk.pkl','wb') as f:\n",
    "#         pickle.dump(optimizerLR,f)\n",
    "#     f.close()\n",
    "\n",
    "#     with open('112XGB.pkl','wb') as f:\n",
    "#         pickle.dump(optimizerXGB,f)\n",
    "#     f.close()    \n",
    "\n",
    "#     with open('113SVM.pkl','wb') as f:\n",
    "#         pickle.dump(optimizerSVM,f)\n",
    "#     f.close()    \n",
    "\n",
    "#     with open('121XBG.pkl','wb') as f:\n",
    "#         pickle.dump(optimizerXGB_US,f)\n",
    "#     f.close()    \n",
    "\n",
    "#     with open('122SVM.pkl','wb') as f:\n",
    "#         pickle.dump(optimizerSVM_US,f)\n",
    "#     f.close()    \n",
    "\n",
    "#     with open('123KNN.pkl','wb') as f:\n",
    "#         pickle.dump(optimizerKNN_US,f)\n",
    "#     f.close()    \n",
    "\n",
    "#     with open('131BRF.pkl','wb') as f:\n",
    "#         pickle.dump(optimizerBRF,f)\n",
    "#     f.close()    \n",
    "\n",
    "#     with open('132BB.pkl','wb') as f:\n",
    "#         pickle.dump(optimizerBB,f)\n",
    "#     f.close()\n",
    "#     with open('211LogReg_benchamrk_MC1.pkl','wb') as f:\n",
    "#         pickle.dump(optimizerLR_MC,f)\n",
    "#     f.close()\n",
    "\n",
    "#     with open('211LogReg_benchamrk_MC2.pkl','wb') as f:\n",
    "#         pickle.dump(optimizerLR_MC2,f)\n",
    "#     f.close()\n",
    "\n",
    "#     with open('211LogReg_benchamrk_MC3.pkl','wb') as f:\n",
    "#         pickle.dump(optimizerLR_MC3,f)\n",
    "#     f.close()\n",
    "\n",
    "#     with open('212XGB.pkl','wb') as f:\n",
    "#         pickle.dump(optimizerXGB_MC,f)\n",
    "#     f.close()\n",
    "\n",
    "#     with open('221XGB.pkl','wb') as f:\n",
    "#         pickle.dump(optimizerXGB_MC_US,f)\n",
    "#     f.close()\n",
    "\n",
    "#     with open('222SVM.pkl','wb') as f:\n",
    "#         pickle.dump(optimizerSVM_MC_US,f)\n",
    "#     f.close()\n",
    "\n",
    "#     with open('223KNN.pkl','wb') as f:\n",
    "#         pickle.dump(optimizerKNN_MC_US,f)\n",
    "#     f.close()\n",
    "\n",
    "#     with open('231BRF.pkl','wb') as f:\n",
    "#         pickle.dump(optimizerBRF_MC,f)\n",
    "#     f.close()\n",
    "\n",
    "#     with open('232BB.pkl','wb') as f:\n",
    "#         pickle.dump(optimizerBB_MC,f)\n",
    "#     f.close()"
   ]
  }
 ],
 "metadata": {
  "kernelspec": {
   "display_name": "Python 3",
   "language": "python",
   "name": "python3"
  },
  "language_info": {
   "codemirror_mode": {
    "name": "ipython",
    "version": 3
   },
   "file_extension": ".py",
   "mimetype": "text/x-python",
   "name": "python",
   "nbconvert_exporter": "python",
   "pygments_lexer": "ipython3",
   "version": "3.8.2"
  }
 },
 "nbformat": 4,
 "nbformat_minor": 4
}
