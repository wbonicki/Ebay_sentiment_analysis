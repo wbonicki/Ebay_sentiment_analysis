{
 "cells": [
  {
   "cell_type": "markdown",
   "metadata": {},
   "source": [
    "# Best models performance\n",
    "\n",
    "This is the last part of the project where the best models (for binary and multilabel classification) were evaluated in details. __SupportVectorClassifier__ algorithm turned out to be the best model among others for both cases. "
   ]
  },
  {
   "cell_type": "code",
   "execution_count": 3,
   "metadata": {},
   "outputs": [],
   "source": [
    "import numpy as np\n",
    "import pandas as pd\n",
    "import pickle\n",
    "\n",
    "from sklearn.model_selection import train_test_split\n",
    "from sklearn.metrics import classification_report, confusion_matrix"
   ]
  },
  {
   "cell_type": "code",
   "execution_count": 4,
   "metadata": {},
   "outputs": [],
   "source": [
    "pd.set_option(\"max_colwidth\", 1000)"
   ]
  },
  {
   "cell_type": "markdown",
   "metadata": {},
   "source": [
    "__Loading dataset__"
   ]
  },
  {
   "cell_type": "code",
   "execution_count": 70,
   "metadata": {},
   "outputs": [],
   "source": [
    "data = pd.read_csv('Data_ML.csv', index_col='Unnamed: 0')"
   ]
  },
  {
   "cell_type": "markdown",
   "metadata": {},
   "source": [
    "## 1. Binary model evaluation"
   ]
  },
  {
   "cell_type": "code",
   "execution_count": 11,
   "metadata": {},
   "outputs": [],
   "source": [
    "# Keeping only positive and negative reviews\n",
    "data_binary = data[data.rating != 0]\n",
    "\n",
    "X = data_binary.loc[:, 'review']\n",
    "y = data_binary.loc[:, 'rating']\n",
    "\n",
    "X_train, X_test, y_train, y_test = train_test_split(\n",
    "    X, y, test_size=0.2, stratify=y, random_state=100)"
   ]
  },
  {
   "cell_type": "markdown",
   "metadata": {},
   "source": [
    "### 1.1. Binary model performance"
   ]
  },
  {
   "cell_type": "code",
   "execution_count": 14,
   "metadata": {},
   "outputs": [
    {
     "name": "stdout",
     "output_type": "stream",
     "text": [
      "[[ 387   18]\n",
      " [  40 8417]]\n",
      "              precision    recall  f1-score   support\n",
      "\n",
      "          -1       0.91      0.96      0.93       405\n",
      "           1       1.00      1.00      1.00      8457\n",
      "\n",
      "    accuracy                           0.99      8862\n",
      "   macro avg       0.95      0.98      0.96      8862\n",
      "weighted avg       0.99      0.99      0.99      8862\n",
      "\n",
      "number of reviews that are positive and are predicted as positive: 8417\n",
      "number of reviews that are negative and are predicted as negative: 387\n",
      "number of reviews that are negative and are predicted as positive: 18\n",
      "number of reviews that are positive and are predicted as negative: 40\n"
     ]
    }
   ],
   "source": [
    "model_binary = pickle.load(open(\"models/113SVM.pkl\", 'rb'))\n",
    "\n",
    "threshold = 0.8\n",
    "\n",
    "# predicting probabilites that a review is positive\n",
    "y_pred_proba_pos = model_binary.predict_proba(X_test)[:,1]\n",
    "\n",
    "# introducing calculated threshold\n",
    "y_pred = np.where(y_pred_proba_pos > threshold, 1, -1)\n",
    "\n",
    "# confusion matrix\n",
    "cm = confusion_matrix(y_test, y_pred) \n",
    "\n",
    "print(cm)\n",
    "print(classification_report(y_test, y_pred))\n",
    "\n",
    "print(\n",
    "    f'number of reviews that are positive and are predicted as positive: {cm[1][1]}')\n",
    "print(\n",
    "    f'number of reviews that are negative and are predicted as negative: {cm[0][0]}')\n",
    "print(\n",
    "    f'number of reviews that are negative and are predicted as positive: {cm[0][1]}')\n",
    "print(\n",
    "    f'number of reviews that are positive and are predicted as negative: {cm[1][0]}')"
   ]
  },
  {
   "cell_type": "markdown",
   "metadata": {},
   "source": [
    "### 1.2. Misclassified (preprocessed) reviews for binary model"
   ]
  },
  {
   "cell_type": "code",
   "execution_count": 20,
   "metadata": {},
   "outputs": [],
   "source": [
    "data_evaluation_binary=pd.DataFrame(\n",
    "    np.hstack([y_test.values.reshape(-1, 1), y_pred.reshape(-1, 1)]),\n",
    "    columns=['true', 'predicted'])\n",
    "\n",
    "data_evaluation_binary['review'] = X_test.values\n",
    "\n",
    "# indexes of misclassified reviews\n",
    "idx = data_evaluation_binary['true'] != data_evaluation_binary['predicted']\n",
    "\n",
    "data_misclassified_binary = data_evaluation_binary[idx]"
   ]
  },
  {
   "cell_type": "code",
   "execution_count": 111,
   "metadata": {},
   "outputs": [
    {
     "data": {
      "text/html": [
       "<div>\n",
       "<style scoped>\n",
       "    .dataframe tbody tr th:only-of-type {\n",
       "        vertical-align: middle;\n",
       "    }\n",
       "\n",
       "    .dataframe tbody tr th {\n",
       "        vertical-align: top;\n",
       "    }\n",
       "\n",
       "    .dataframe thead th {\n",
       "        text-align: right;\n",
       "    }\n",
       "</style>\n",
       "<table border=\"1\" class=\"dataframe\">\n",
       "  <thead>\n",
       "    <tr style=\"text-align: right;\">\n",
       "      <th></th>\n",
       "      <th>true</th>\n",
       "      <th>predicted</th>\n",
       "      <th>review</th>\n",
       "    </tr>\n",
       "  </thead>\n",
       "  <tbody>\n",
       "    <tr>\n",
       "      <th>7985</th>\n",
       "      <td>-1</td>\n",
       "      <td>1</td>\n",
       "      <td>great everything worked bought canon powershot s1 32 mp digital camera  silver new problem camera month warranty ran went use couldnt get lcd show wanted photograph fact lcd screen totally black trying get work gave sent canon fixed cost fixed 2 12 years later problem camera camera took good photos movies little awkward carry maybe bought lemonread full review</td>\n",
       "    </tr>\n",
       "    <tr>\n",
       "      <th>7147</th>\n",
       "      <td>-1</td>\n",
       "      <td>1</td>\n",
       "      <td>unsatisfying didnt come charger no instructions use long last long takes charge</td>\n",
       "    </tr>\n",
       "    <tr>\n",
       "      <th>8737</th>\n",
       "      <td>-1</td>\n",
       "      <td>1</td>\n",
       "      <td>bad not worknice camera  give one star unable open battery cover looks like glued something  product self good old one canon a1000is 10 years no problem a1000is older model 2009 a1100is 2013 model not much diference cosmetic higher mp 121 mp a1000is 10mread full review</td>\n",
       "    </tr>\n",
       "    <tr>\n",
       "      <th>4819</th>\n",
       "      <td>-1</td>\n",
       "      <td>1</td>\n",
       "      <td>particular unit purchased repair repair end very expensive could not afford fixed still sitting shelfmy mistake there’s good ratings</td>\n",
       "    </tr>\n",
       "    <tr>\n",
       "      <th>5340</th>\n",
       "      <td>-1</td>\n",
       "      <td>1</td>\n",
       "      <td>no conection inside</td>\n",
       "    </tr>\n",
       "  </tbody>\n",
       "</table>\n",
       "</div>"
      ],
      "text/plain": [
       "      true  predicted  \\\n",
       "7985    -1          1   \n",
       "7147    -1          1   \n",
       "8737    -1          1   \n",
       "4819    -1          1   \n",
       "5340    -1          1   \n",
       "\n",
       "                                                                                                                                                                                                                                                                                                                                                                          review  \n",
       "7985  great everything worked bought canon powershot s1 32 mp digital camera  silver new problem camera month warranty ran went use couldnt get lcd show wanted photograph fact lcd screen totally black trying get work gave sent canon fixed cost fixed 2 12 years later problem camera camera took good photos movies little awkward carry maybe bought lemonread full review  \n",
       "7147                                                                                                                                                                                                                                                                                             unsatisfying didnt come charger no instructions use long last long takes charge  \n",
       "8737                                                                                               bad not worknice camera  give one star unable open battery cover looks like glued something  product self good old one canon a1000is 10 years no problem a1000is older model 2009 a1100is 2013 model not much diference cosmetic higher mp 121 mp a1000is 10mread full review  \n",
       "4819                                                                                                                                                                                                                                        particular unit purchased repair repair end very expensive could not afford fixed still sitting shelfmy mistake there’s good ratings  \n",
       "5340                                                                                                                                                                                                                                                                                                                                                         no conection inside  "
      ]
     },
     "execution_count": 111,
     "metadata": {},
     "output_type": "execute_result"
    }
   ],
   "source": [
    "# false positive\n",
    "data_misclassified_binary[data_misclassified_binary.true == -1].sample(5).head()"
   ]
  },
  {
   "cell_type": "code",
   "execution_count": 112,
   "metadata": {},
   "outputs": [
    {
     "data": {
      "text/html": [
       "<div>\n",
       "<style scoped>\n",
       "    .dataframe tbody tr th:only-of-type {\n",
       "        vertical-align: middle;\n",
       "    }\n",
       "\n",
       "    .dataframe tbody tr th {\n",
       "        vertical-align: top;\n",
       "    }\n",
       "\n",
       "    .dataframe thead th {\n",
       "        text-align: right;\n",
       "    }\n",
       "</style>\n",
       "<table border=\"1\" class=\"dataframe\">\n",
       "  <thead>\n",
       "    <tr style=\"text-align: right;\">\n",
       "      <th></th>\n",
       "      <th>true</th>\n",
       "      <th>predicted</th>\n",
       "      <th>review</th>\n",
       "    </tr>\n",
       "  </thead>\n",
       "  <tbody>\n",
       "    <tr>\n",
       "      <th>7296</th>\n",
       "      <td>1</td>\n",
       "      <td>-1</td>\n",
       "      <td>best case hands case literally keeps phone charged all day  use work school socially it’s awesome i’ve tried brands don’t waste money get real deal</td>\n",
       "    </tr>\n",
       "    <tr>\n",
       "      <th>3522</th>\n",
       "      <td>1</td>\n",
       "      <td>-1</td>\n",
       "      <td>nice little helper tendency forget turn timer helps talk dont stop</td>\n",
       "    </tr>\n",
       "    <tr>\n",
       "      <th>1340</th>\n",
       "      <td>1</td>\n",
       "      <td>-1</td>\n",
       "      <td>norelco 7500 not good shaving short hair go spot 5 6 7 times buy norelco 30 shave better blades worn new blades blades cost favor h v e rread full review</td>\n",
       "    </tr>\n",
       "    <tr>\n",
       "      <th>1056</th>\n",
       "      <td>1</td>\n",
       "      <td>-1</td>\n",
       "      <td>love needs driver update  3 various computers beware change standard line keyboard though  layout give fewer mistakes cause problems standared keyboardthe one thing bad drivers come limited compatiibility many potential features cant usedplug play not let get still love itread full review</td>\n",
       "    </tr>\n",
       "    <tr>\n",
       "      <th>2841</th>\n",
       "      <td>1</td>\n",
       "      <td>-1</td>\n",
       "      <td>heat 23 hours usage heats ears really irritates</td>\n",
       "    </tr>\n",
       "  </tbody>\n",
       "</table>\n",
       "</div>"
      ],
      "text/plain": [
       "      true  predicted  \\\n",
       "7296     1         -1   \n",
       "3522     1         -1   \n",
       "1340     1         -1   \n",
       "1056     1         -1   \n",
       "2841     1         -1   \n",
       "\n",
       "                                                                                                                                                                                                                                                                                                 review  \n",
       "7296                                                                                                                                                best case hands case literally keeps phone charged all day  use work school socially it’s awesome i’ve tried brands don’t waste money get real deal  \n",
       "3522                                                                                                                                                                                                                                 nice little helper tendency forget turn timer helps talk dont stop  \n",
       "1340                                                                                                                                          norelco 7500 not good shaving short hair go spot 5 6 7 times buy norelco 30 shave better blades worn new blades blades cost favor h v e rread full review  \n",
       "1056  love needs driver update  3 various computers beware change standard line keyboard though  layout give fewer mistakes cause problems standared keyboardthe one thing bad drivers come limited compatiibility many potential features cant usedplug play not let get still love itread full review  \n",
       "2841                                                                                                                                                                                                                                                    heat 23 hours usage heats ears really irritates  "
      ]
     },
     "execution_count": 112,
     "metadata": {},
     "output_type": "execute_result"
    }
   ],
   "source": [
    "# false negative\n",
    "data_misclassified_binary[data_misclassified_binary.true == 1].sample(5).head()"
   ]
  },
  {
   "cell_type": "markdown",
   "metadata": {},
   "source": [
    "### 1.3. Predicting neutral reviews by binary model"
   ]
  },
  {
   "cell_type": "code",
   "execution_count": 58,
   "metadata": {},
   "outputs": [],
   "source": [
    "neutral = data[data.rating == 0].review.values\n",
    "# probabilty that a review is positive\n",
    "neutral_pred_prob_pos = model_binary.predict_proba(neutral)[:,1]\n",
    "neutral_df = pd.DataFrame(\n",
    "    neutral_pred_prob_pos.reshape(-1, 1),\n",
    "    columns=['positive probability'])\n",
    "\n",
    "neutral_df['neutral review'] = neutral"
   ]
  },
  {
   "cell_type": "code",
   "execution_count": 114,
   "metadata": {},
   "outputs": [
    {
     "data": {
      "text/html": [
       "<div>\n",
       "<style scoped>\n",
       "    .dataframe tbody tr th:only-of-type {\n",
       "        vertical-align: middle;\n",
       "    }\n",
       "\n",
       "    .dataframe tbody tr th {\n",
       "        vertical-align: top;\n",
       "    }\n",
       "\n",
       "    .dataframe thead th {\n",
       "        text-align: right;\n",
       "    }\n",
       "</style>\n",
       "<table border=\"1\" class=\"dataframe\">\n",
       "  <thead>\n",
       "    <tr style=\"text-align: right;\">\n",
       "      <th></th>\n",
       "      <th>positive probability</th>\n",
       "      <th>neutral review</th>\n",
       "    </tr>\n",
       "  </thead>\n",
       "  <tbody>\n",
       "    <tr>\n",
       "      <th>927</th>\n",
       "      <td>0.890738</td>\n",
       "      <td>not going buy stainless steel kitchen scale actually surface scale 01 mm thick metal sticker 40 mm thick glass far away stainless steel mininum capacity 5 g capacitive buttons great doesnt always respond touch otherwise well built no additional sounds heard turning itread full review</td>\n",
       "    </tr>\n",
       "    <tr>\n",
       "      <th>716</th>\n",
       "      <td>0.562450</td>\n",
       "      <td>bad quality sound first beats studio came not wireless sounded much better studio 3 version very unhappy product  expected much   beats studio1 turned better studio3 😔read full review</td>\n",
       "    </tr>\n",
       "    <tr>\n",
       "      <th>1059</th>\n",
       "      <td>0.872771</td>\n",
       "      <td>not good phone works well battery speaker little bad think ineed change</td>\n",
       "    </tr>\n",
       "    <tr>\n",
       "      <th>1006</th>\n",
       "      <td>0.999999</td>\n",
       "      <td>cracks easy cracks way easy</td>\n",
       "    </tr>\n",
       "    <tr>\n",
       "      <th>231</th>\n",
       "      <td>0.098892</td>\n",
       "      <td>phone doesn’t work described put verizon sim card right reset phone showed signal bars less 10 seconds disappeared even took verizon store didn’t even know wasting time mineread full review</td>\n",
       "    </tr>\n",
       "    <tr>\n",
       "      <th>1370</th>\n",
       "      <td>0.971011</td>\n",
       "      <td>good product works expected product good  seemed bit powered used without blade place  used 2x1 piece wood went like hot knife butter  heavier expect without battery not much corded version  going prosumer work areas without power good option especially brought rigid 18v product line already  wish purchased brushless version  long term maintenance issues may come upread full review</td>\n",
       "    </tr>\n",
       "    <tr>\n",
       "      <th>578</th>\n",
       "      <td>0.598874</td>\n",
       "      <td>not right model monitor model monitor suppose receive mg28uq received mg28u similar features still would nice receive model listed</td>\n",
       "    </tr>\n",
       "    <tr>\n",
       "      <th>1137</th>\n",
       "      <td>0.836630</td>\n",
       "      <td>hairstyck good hair stuck  kit 🙁we remove always</td>\n",
       "    </tr>\n",
       "    <tr>\n",
       "      <th>1247</th>\n",
       "      <td>0.970591</td>\n",
       "      <td>it’s must  takes little get used it’s definitely way go little bit tough get used not impossible</td>\n",
       "    </tr>\n",
       "    <tr>\n",
       "      <th>1304</th>\n",
       "      <td>0.138677</td>\n",
       "      <td>syncros not impressed earpiece staying walking even sitting  falls all time</td>\n",
       "    </tr>\n",
       "  </tbody>\n",
       "</table>\n",
       "</div>"
      ],
      "text/plain": [
       "      positive probability  \\\n",
       "927               0.890738   \n",
       "716               0.562450   \n",
       "1059              0.872771   \n",
       "1006              0.999999   \n",
       "231               0.098892   \n",
       "1370              0.971011   \n",
       "578               0.598874   \n",
       "1137              0.836630   \n",
       "1247              0.970591   \n",
       "1304              0.138677   \n",
       "\n",
       "                                                                                                                                                                                                                                                                                                                                                                                        neutral review  \n",
       "927                                                                                                       not going buy stainless steel kitchen scale actually surface scale 01 mm thick metal sticker 40 mm thick glass far away stainless steel mininum capacity 5 g capacitive buttons great doesnt always respond touch otherwise well built no additional sounds heard turning itread full review  \n",
       "716                                                                                                                                                                                                            bad quality sound first beats studio came not wireless sounded much better studio 3 version very unhappy product  expected much   beats studio1 turned better studio3 😔read full review  \n",
       "1059                                                                                                                                                                                                                                                                                                                           not good phone works well battery speaker little bad think ineed change  \n",
       "1006                                                                                                                                                                                                                                                                                                                                                                       cracks easy cracks way easy  \n",
       "231                                                                                                                                                                                                      phone doesn’t work described put verizon sim card right reset phone showed signal bars less 10 seconds disappeared even took verizon store didn’t even know wasting time mineread full review  \n",
       "1370  good product works expected product good  seemed bit powered used without blade place  used 2x1 piece wood went like hot knife butter  heavier expect without battery not much corded version  going prosumer work areas without power good option especially brought rigid 18v product line already  wish purchased brushless version  long term maintenance issues may come upread full review  \n",
       "578                                                                                                                                                                                                                                                                 not right model monitor model monitor suppose receive mg28uq received mg28u similar features still would nice receive model listed  \n",
       "1137                                                                                                                                                                                                                                                                                                                                                  hairstyck good hair stuck  kit 🙁we remove always  \n",
       "1247                                                                                                                                                                                                                                                                                                  it’s must  takes little get used it’s definitely way go little bit tough get used not impossible  \n",
       "1304                                                                                                                                                                                                                                                                                                                       syncros not impressed earpiece staying walking even sitting  falls all time  "
      ]
     },
     "execution_count": 114,
     "metadata": {},
     "output_type": "execute_result"
    }
   ],
   "source": [
    "neutral_df.sample(10)"
   ]
  },
  {
   "cell_type": "markdown",
   "metadata": {},
   "source": [
    "### 1.4. Binary model test\n",
    "\n",
    "Predicting sentiment of a given review"
   ]
  },
  {
   "cell_type": "code",
   "execution_count": 115,
   "metadata": {},
   "outputs": [
    {
     "name": "stdout",
     "output_type": "stream",
     "text": [
      "review: Lightweight with great features Its cool its nice its convenient i needed it for work im always on the go I love it because i use it all day and it rarely dies I didnt think i needed it til i got it haven't stop using it since\n",
      "\n",
      "the review is positive\n"
     ]
    }
   ],
   "source": [
    "#the review taken from ebay\n",
    "review = \"\"\"\n",
    "Lightweight with great features Its cool its nice its\n",
    "convenient i needed it for work im always on the go\n",
    "I love it because i use it all day and it rarely dies\n",
    "I didnt think i needed it til i got it haven't stop using it since\n",
    "\"\"\"\n",
    "\n",
    "print(f'review: {review}\\n')\n",
    "review = np.array([review.lower()])\n",
    "sentiment = model_binary.predict(review)[0]\n",
    "if sentiment == 1:\n",
    "    print('the review is positive')\n",
    "else:\n",
    "    print('the review is negative')"
   ]
  },
  {
   "cell_type": "markdown",
   "metadata": {},
   "source": [
    "## 2. Multiclass model evaluation"
   ]
  },
  {
   "cell_type": "code",
   "execution_count": 71,
   "metadata": {},
   "outputs": [],
   "source": [
    "model_multiclass = pickle.load(open(\"models/213SVM.pkl\", 'rb'))\n",
    "\n",
    "X = data.loc[:, 'review']\n",
    "y = data.loc[:, 'rating']\n",
    "\n",
    "X_train, X_test, y_train, y_test = train_test_split(\n",
    "    X, y, test_size=0.2, stratify=y, random_state=100)"
   ]
  },
  {
   "cell_type": "markdown",
   "metadata": {},
   "source": [
    "### 2.1. Multiclass model performance"
   ]
  },
  {
   "cell_type": "code",
   "execution_count": 84,
   "metadata": {},
   "outputs": [
    {
     "name": "stdout",
     "output_type": "stream",
     "text": [
      "[[ 360    2   43]\n",
      " [  13  235   41]\n",
      " [   8    4 8445]]\n",
      "              precision    recall  f1-score   support\n",
      "\n",
      "          -1       0.94      0.89      0.92       405\n",
      "           0       0.98      0.81      0.89       289\n",
      "           1       0.99      1.00      0.99      8457\n",
      "\n",
      "    accuracy                           0.99      9151\n",
      "   macro avg       0.97      0.90      0.93      9151\n",
      "weighted avg       0.99      0.99      0.99      9151\n",
      "\n",
      "number of reviews that are positive and are predicted as positive: 8445\n",
      "number of reviews that are negative and are predicted as negative: 235\n",
      "number of reviews that are neutral and are predicted as neutral: 360\n",
      "number of reviews that are positive and are predicted as negative: 8\n",
      "number of reviews that are positive and are predicted as neutral: 4\n",
      "number of reviews that are negative and are predicted as positive: 43\n",
      "number of reviews that are negative and are predicted as neutral: 2\n",
      "number of reviews that are neutral and are predicted as positive: 41\n",
      "number of reviews that are neutral and are predicted as negative: 13\n"
     ]
    }
   ],
   "source": [
    "y_pred = model_multiclass.predict(X_test)\n",
    "cm = confusion_matrix(y_test, y_pred) \n",
    "\n",
    "print(cm)\n",
    "print(classification_report(y_test, y_pred))\n",
    "\n",
    "print(f'number of reviews that are positive and are predicted as positive: {cm[2][2]}')\n",
    "print(f'number of reviews that are negative and are predicted as negative: {cm[1][1]}')\n",
    "print(f'number of reviews that are neutral and are predicted as neutral: {cm[0][0]}')\n",
    "\n",
    "print(f'number of reviews that are positive and are predicted as negative: {cm[2][0]}')\n",
    "print(f'number of reviews that are positive and are predicted as neutral: {cm[2][1]}')\n",
    "\n",
    "print(f'number of reviews that are negative and are predicted as positive: {cm[0][2]}')\n",
    "print(f'number of reviews that are negative and are predicted as neutral: {cm[0][1]}')\n",
    "\n",
    "print(f'number of reviews that are neutral and are predicted as positive: {cm[1][2]}')\n",
    "print(f'number of reviews that are neutral and are predicted as negative: {cm[1][0]}')"
   ]
  },
  {
   "cell_type": "code",
   "execution_count": 8,
   "metadata": {},
   "outputs": [],
   "source": [
    "def model_summary(model, X_test, y_test):\n",
    "    \"\"\"\n",
    "    Function that prints classification report and confusion matrix for a given model\n",
    "    \"\"\"\n",
    "    \n",
    "    y_pred = model.predict(X_test)\n",
    "    print('\\nconfusion matrix\\n', confusion_matrix(y_test, y_pred))\n",
    "\n",
    "    print('\\nclassification report\\n',classification_report(y_test, y_pred))"
   ]
  },
  {
   "cell_type": "markdown",
   "metadata": {},
   "source": [
    "### 2.2. Misclassified (preprocessed) reviews for multiclass model"
   ]
  },
  {
   "cell_type": "code",
   "execution_count": 86,
   "metadata": {},
   "outputs": [],
   "source": [
    "data_evaluation_mc=pd.DataFrame(\n",
    "    np.hstack([y_test.values.reshape(-1, 1),\n",
    "               y_pred.reshape(-1,1)]),\n",
    "    columns=['true','predicted'])\n",
    "\n",
    "data_evaluation_mc['review'] = X_test.values\n",
    "idx = data_evaluation_mc['true'] != data_evaluation_mc['predicted']\n",
    "data_misclassified_mc = data_evaluation_mc[idx]"
   ]
  },
  {
   "cell_type": "code",
   "execution_count": 117,
   "metadata": {},
   "outputs": [
    {
     "data": {
      "text/html": [
       "<div>\n",
       "<style scoped>\n",
       "    .dataframe tbody tr th:only-of-type {\n",
       "        vertical-align: middle;\n",
       "    }\n",
       "\n",
       "    .dataframe tbody tr th {\n",
       "        vertical-align: top;\n",
       "    }\n",
       "\n",
       "    .dataframe thead th {\n",
       "        text-align: right;\n",
       "    }\n",
       "</style>\n",
       "<table border=\"1\" class=\"dataframe\">\n",
       "  <thead>\n",
       "    <tr style=\"text-align: right;\">\n",
       "      <th></th>\n",
       "      <th>true</th>\n",
       "      <th>predicted</th>\n",
       "      <th>review</th>\n",
       "    </tr>\n",
       "  </thead>\n",
       "  <tbody>\n",
       "    <tr>\n",
       "      <th>271</th>\n",
       "      <td>0</td>\n",
       "      <td>1</td>\n",
       "      <td>ok ok</td>\n",
       "    </tr>\n",
       "    <tr>\n",
       "      <th>379</th>\n",
       "      <td>0</td>\n",
       "      <td>1</td>\n",
       "      <td>fine locked few times shut reboot fine</td>\n",
       "    </tr>\n",
       "    <tr>\n",
       "      <th>506</th>\n",
       "      <td>0</td>\n",
       "      <td>1</td>\n",
       "      <td>good mouse bad software pros excellent feel responsiveness upped potential immediatelycons software called ghub logitechs proprietary software not user friendly tried many days get downloaded onto computer unsuccessful far way access device program software answer mouse  good software interface notread full review</td>\n",
       "    </tr>\n",
       "    <tr>\n",
       "      <th>540</th>\n",
       "      <td>0</td>\n",
       "      <td>1</td>\n",
       "      <td>isnt bose quality expected all bose products owned pro  easy pair use multiple devices time battery lifecon  not fit well get quality sound expected even optional earpieces therefore doesnt fit comfortable especially running workouts  jabra elite active 65t much better fit sound also betterread full review</td>\n",
       "    </tr>\n",
       "    <tr>\n",
       "      <th>562</th>\n",
       "      <td>0</td>\n",
       "      <td>1</td>\n",
       "      <td>never new color look like like anyway uses battery fast</td>\n",
       "    </tr>\n",
       "  </tbody>\n",
       "</table>\n",
       "</div>"
      ],
      "text/plain": [
       "     true  predicted  \\\n",
       "271     0          1   \n",
       "379     0          1   \n",
       "506     0          1   \n",
       "540     0          1   \n",
       "562     0          1   \n",
       "\n",
       "                                                                                                                                                                                                                                                                                                                          review  \n",
       "271                                                                                                                                                                                                                                                                                                                        ok ok  \n",
       "379                                                                                                                                                                                                                                                                                       fine locked few times shut reboot fine  \n",
       "506  good mouse bad software pros excellent feel responsiveness upped potential immediatelycons software called ghub logitechs proprietary software not user friendly tried many days get downloaded onto computer unsuccessful far way access device program software answer mouse  good software interface notread full review  \n",
       "540          isnt bose quality expected all bose products owned pro  easy pair use multiple devices time battery lifecon  not fit well get quality sound expected even optional earpieces therefore doesnt fit comfortable especially running workouts  jabra elite active 65t much better fit sound also betterread full review  \n",
       "562                                                                                                                                                                                                                                                                      never new color look like like anyway uses battery fast  "
      ]
     },
     "execution_count": 117,
     "metadata": {},
     "output_type": "execute_result"
    }
   ],
   "source": [
    "# this cell shows misclassfied labels for given true and predicted sentiment\n",
    "# 1 - positive\n",
    "# 0 - neutral\n",
    "# -1 - negative\n",
    "\n",
    "true_label = 0\n",
    "predicted_label = 1\n",
    "\n",
    "data_misclassified_mc[\n",
    "    (data_misclassified_mc.true == true_label) \n",
    "    & (data_misclassified_mc.predicted == predicted_label)\n",
    "].head()"
   ]
  },
  {
   "cell_type": "code",
   "execution_count": 108,
   "metadata": {},
   "outputs": [
    {
     "name": "stdout",
     "output_type": "stream",
     "text": [
      "review: Apple AirPod Pros It is all good but the quality on them is a little wacky isnt really working the best in between the songs\n",
      "the review is positive\n"
     ]
    }
   ],
   "source": [
    "#the review taken from ebay\n",
    "review =\"\"\"\n",
    "Apple AirPod Pros It is all good but the quality on them is a \n",
    "little wacky isnt really working the best in between the songs\"\"\"\n",
    "\n",
    "print(f'review: {review}')\n",
    "review = np.array([review])\n",
    "sentiment = model_multiclass.predict(review)\n",
    "if sentiment == 1:\n",
    "    print('the review is positive')\n",
    "elif sentiment == 0:\n",
    "    print('the review is neutral')   \n",
    "else:\n",
    "    print('the review is negative')"
   ]
  },
  {
   "cell_type": "markdown",
   "metadata": {},
   "source": [
    "# Final summary and conclusion\n",
    "\n",
    "1. Without a doubt SupportVectorClassifier turned out to be the best model in both cases. XGBoost was the second best model and its performance was slightly worser compared to SVC.\n",
    "2. Looking at neutral reviews it seems reasonable to build a binary model - very often these reviews can be classified as either positive or negative\n",
    "3. Looking at misclassified reviews one can infere that sometimes the model predicts a sentiment better that a rating given by a customer. E-commerce websites could use AI models for determining reviews sentiments regardless of customers ratings. "
   ]
  }
 ],
 "metadata": {
  "kernelspec": {
   "display_name": "Python 3",
   "language": "python",
   "name": "python3"
  },
  "language_info": {
   "codemirror_mode": {
    "name": "ipython",
    "version": 3
   },
   "file_extension": ".py",
   "mimetype": "text/x-python",
   "name": "python",
   "nbconvert_exporter": "python",
   "pygments_lexer": "ipython3",
   "version": "3.8.5"
  }
 },
 "nbformat": 4,
 "nbformat_minor": 4
}
